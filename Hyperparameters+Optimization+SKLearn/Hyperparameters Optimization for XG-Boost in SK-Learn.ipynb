{
 "cells": [
  {
   "cell_type": "markdown",
   "metadata": {
    "colab_type": "text",
    "id": "TprtqAhLn9w8"
   },
   "source": [
    "# CODING TASK #1: IMPORT DATASET AND LIBRARIES"
   ]
  },
  {
   "cell_type": "code",
   "execution_count": null,
   "metadata": {},
   "outputs": [],
   "source": [
    "!pip install --upgrade Pandas"
   ]
  },
  {
   "cell_type": "code",
   "execution_count": null,
   "metadata": {
    "colab": {},
    "colab_type": "code",
    "id": "PVrKXCk4njhr"
   },
   "outputs": [],
   "source": [
    "import pandas as pd\n",
    "import numpy as np\n",
    "import seaborn as sns\n",
    "import matplotlib.pyplot as plt\n",
    "import zipfile\n",
    "%matplotlib inline"
   ]
  },
  {
   "cell_type": "code",
   "execution_count": null,
   "metadata": {
    "colab": {},
    "colab_type": "code",
    "id": "S1soONkDu67P"
   },
   "outputs": [],
   "source": [
    "# import the csv files using pandas \n",
    "bike_df = pd.read_csv('bike_sharing_daily.csv')"
   ]
  },
  {
   "cell_type": "code",
   "execution_count": null,
   "metadata": {},
   "outputs": [],
   "source": [
    "# Let's explore the dataframe\n",
    "bike_df"
   ]
  },
  {
   "cell_type": "code",
   "execution_count": null,
   "metadata": {},
   "outputs": [],
   "source": [
    "bike_df.head(5)"
   ]
  },
  {
   "cell_type": "code",
   "execution_count": null,
   "metadata": {},
   "outputs": [],
   "source": [
    "bike_df.tail(10)"
   ]
  },
  {
   "cell_type": "code",
   "execution_count": null,
   "metadata": {},
   "outputs": [],
   "source": [
    "bike_df.info()"
   ]
  },
  {
   "cell_type": "markdown",
   "metadata": {},
   "source": [
    "**PRACTICE OPPORTUNITY #1 [OPTIONAL]:**\n",
    "- **Compare the Average casual, registered and total bike sharing demand** \n",
    "- **Does the average value of casual and registered sum up to the overall average total demand?**"
   ]
  },
  {
   "cell_type": "code",
   "execution_count": null,
   "metadata": {},
   "outputs": [],
   "source": [
    "bike_df.describe()"
   ]
  },
  {
   "cell_type": "markdown",
   "metadata": {},
   "source": [
    "# CODING TASK #2: PERFORM DATA CLEANING"
   ]
  },
  {
   "cell_type": "code",
   "execution_count": null,
   "metadata": {},
   "outputs": [],
   "source": [
    "sns.heatmap(bike_df.isnull())"
   ]
  },
  {
   "cell_type": "code",
   "execution_count": null,
   "metadata": {},
   "outputs": [],
   "source": [
    "bike_df"
   ]
  },
  {
   "cell_type": "code",
   "execution_count": null,
   "metadata": {},
   "outputs": [],
   "source": [
    "bike_df = bike_df.drop(labels = ['instant'], axis = 1)\n",
    "bike_df"
   ]
  },
  {
   "cell_type": "code",
   "execution_count": null,
   "metadata": {},
   "outputs": [],
   "source": [
    "bike_df = bike_df.drop(labels = ['casual', 'registered'], axis = 1)\n",
    "bike_df"
   ]
  },
  {
   "cell_type": "code",
   "execution_count": null,
   "metadata": {},
   "outputs": [],
   "source": [
    "bike_df['dteday'] = pd.to_datetime(bike_df['dteday'], format = '%m/%d/%Y')\n",
    "bike_df"
   ]
  },
  {
   "cell_type": "code",
   "execution_count": null,
   "metadata": {},
   "outputs": [],
   "source": [
    "bike_df.index = pd.DatetimeIndex(bike_df['dteday'])\n",
    "bike_df"
   ]
  },
  {
   "cell_type": "code",
   "execution_count": null,
   "metadata": {},
   "outputs": [],
   "source": [
    "bike_df = bike_df.drop(labels = ['dteday'], axis = 1)\n",
    "bike_df"
   ]
  },
  {
   "cell_type": "markdown",
   "metadata": {},
   "source": [
    "# CODING TASK #3: PERFORM DATA VISUALIZATION"
   ]
  },
  {
   "cell_type": "code",
   "execution_count": null,
   "metadata": {},
   "outputs": [],
   "source": [
    "plt.figure(figsize = (12, 7))\n",
    "bike_df['cnt'].asfreq('W').plot(linewidth = 5)\n",
    "plt.title('Bike Rental Usage Per Week')\n",
    "plt.xlabel('Week')\n",
    "plt.ylabel('Bike Rental')\n",
    "plt.grid()"
   ]
  },
  {
   "cell_type": "code",
   "execution_count": null,
   "metadata": {},
   "outputs": [],
   "source": [
    "plt.figure(figsize = (12, 7))\n",
    "bike_df['cnt'].asfreq('M').plot(linewidth = 5)\n",
    "plt.title('Bike Rental Usage Per Month')\n",
    "plt.xlabel('Month')\n",
    "plt.ylabel('Bike Rental')\n",
    "plt.grid()"
   ]
  },
  {
   "cell_type": "code",
   "execution_count": null,
   "metadata": {},
   "outputs": [],
   "source": [
    "sns.pairplot(bike_df);"
   ]
  },
  {
   "cell_type": "code",
   "execution_count": null,
   "metadata": {},
   "outputs": [],
   "source": [
    "X_numerical = bike_df[['temp', 'hum', 'windspeed', 'cnt']]\n",
    "X_numerical"
   ]
  },
  {
   "cell_type": "code",
   "execution_count": null,
   "metadata": {},
   "outputs": [],
   "source": [
    "sns.pairplot(X_numerical);"
   ]
  },
  {
   "cell_type": "code",
   "execution_count": null,
   "metadata": {},
   "outputs": [],
   "source": [
    "plt.figure(figsize = (8, 6))\n",
    "sns.heatmap(X_numerical.corr(), annot = True);"
   ]
  },
  {
   "cell_type": "markdown",
   "metadata": {},
   "source": [
    "**PRACTICE OPPORTUNITY #2 [OPTIONAL]:**\n",
    "- **Plot the rental usage per quarter**\n",
    "- **Set the line width to 6 and enable the grid**"
   ]
  },
  {
   "cell_type": "code",
   "execution_count": null,
   "metadata": {},
   "outputs": [],
   "source": [
    "plt.figure(figsize = (12, 7))\n",
    "bike_df['cnt'].asfreq('Q').plot(linewidth = 6)\n",
    "plt.title('Bike Rental Usage Per Quarter')\n",
    "plt.xlabel('Quarter')\n",
    "plt.ylabel('Bike Rental')\n",
    "plt.grid()"
   ]
  },
  {
   "cell_type": "markdown",
   "metadata": {},
   "source": [
    "# CODING TASK #4: CREATE TRAINING AND TESTING DATASET"
   ]
  },
  {
   "cell_type": "code",
   "execution_count": null,
   "metadata": {},
   "outputs": [],
   "source": [
    "X_cat = bike_df[['season', 'yr', 'mnth', 'holiday', 'weekday', 'workingday', 'weathersit']]\n",
    "X_cat"
   ]
  },
  {
   "cell_type": "code",
   "execution_count": null,
   "metadata": {},
   "outputs": [],
   "source": [
    "from sklearn.preprocessing import OneHotEncoder\n",
    "onehotencoder = OneHotEncoder()\n",
    "X_cat = onehotencoder.fit_transform(X_cat).toarray()\n",
    "X_cat"
   ]
  },
  {
   "cell_type": "code",
   "execution_count": null,
   "metadata": {},
   "outputs": [],
   "source": [
    "X_cat.shape"
   ]
  },
  {
   "cell_type": "code",
   "execution_count": null,
   "metadata": {},
   "outputs": [],
   "source": [
    "X_cat = pd.DataFrame(X_cat)"
   ]
  },
  {
   "cell_type": "code",
   "execution_count": null,
   "metadata": {},
   "outputs": [],
   "source": [
    "X_numerical"
   ]
  },
  {
   "cell_type": "code",
   "execution_count": null,
   "metadata": {},
   "outputs": [],
   "source": [
    "X_numerical = X_numerical.reset_index()\n",
    "X_numerical"
   ]
  },
  {
   "cell_type": "code",
   "execution_count": null,
   "metadata": {},
   "outputs": [],
   "source": [
    "X_all = pd.concat([X_cat, X_numerical], axis = 1)\n",
    "X_all"
   ]
  },
  {
   "cell_type": "code",
   "execution_count": null,
   "metadata": {},
   "outputs": [],
   "source": [
    "X_all = X_all.drop('dteday', axis = 1)\n",
    "X_all"
   ]
  },
  {
   "cell_type": "code",
   "execution_count": null,
   "metadata": {},
   "outputs": [],
   "source": [
    "X = X_all.iloc[:, :-1].values\n",
    "y = X_all.iloc[:, -1:].values"
   ]
  },
  {
   "cell_type": "code",
   "execution_count": null,
   "metadata": {},
   "outputs": [],
   "source": [
    "X.shape"
   ]
  },
  {
   "cell_type": "code",
   "execution_count": null,
   "metadata": {},
   "outputs": [],
   "source": [
    "y.shape"
   ]
  },
  {
   "cell_type": "code",
   "execution_count": null,
   "metadata": {},
   "outputs": [],
   "source": [
    "# from sklearn.preprocessing import MinMaxScaler\n",
    "# scaler = MinMaxScaler()\n",
    "# y = scaler.fit_transform(y)"
   ]
  },
  {
   "cell_type": "code",
   "execution_count": null,
   "metadata": {},
   "outputs": [],
   "source": [
    "from sklearn.model_selection import train_test_split\n",
    "X_train, X_test, y_train, y_test = train_test_split(X, y, test_size = 0.2)"
   ]
  },
  {
   "cell_type": "code",
   "execution_count": null,
   "metadata": {},
   "outputs": [],
   "source": [
    "X_train.shape"
   ]
  },
  {
   "cell_type": "code",
   "execution_count": null,
   "metadata": {},
   "outputs": [],
   "source": [
    "X_test.shape"
   ]
  },
  {
   "cell_type": "markdown",
   "metadata": {},
   "source": [
    "# CODING TASK #5: TRAIN AN XG-BOOST ALGORITHM IN LOCAL MODE "
   ]
  },
  {
   "cell_type": "code",
   "execution_count": null,
   "metadata": {},
   "outputs": [],
   "source": [
    "!pip install xgboost"
   ]
  },
  {
   "cell_type": "code",
   "execution_count": null,
   "metadata": {},
   "outputs": [],
   "source": [
    "# Train an XGBoost regressor model \n",
    "\n",
    "import xgboost as xgb\n",
    "\n",
    "model = xgb.XGBRegressor(objective ='reg:squarederror', learning_rate = 1, max_depth = 20, n_estimators = 500)\n",
    "\n",
    "model.fit(X_train, y_train)"
   ]
  },
  {
   "cell_type": "code",
   "execution_count": null,
   "metadata": {},
   "outputs": [],
   "source": [
    "# predict the score of the trained model using the testing dataset\n",
    "\n",
    "result = model.score(X_test, y_test)\n",
    "print(\"Accuracy : {}\".format(result))"
   ]
  },
  {
   "cell_type": "code",
   "execution_count": null,
   "metadata": {},
   "outputs": [],
   "source": [
    "# make predictions on the test data\n",
    "y_predict = model.predict(X_test)\n"
   ]
  },
  {
   "cell_type": "code",
   "execution_count": null,
   "metadata": {},
   "outputs": [],
   "source": [
    "y_test"
   ]
  },
  {
   "cell_type": "code",
   "execution_count": null,
   "metadata": {},
   "outputs": [],
   "source": [
    "y_predict"
   ]
  },
  {
   "cell_type": "code",
   "execution_count": null,
   "metadata": {},
   "outputs": [],
   "source": [
    "from sklearn.metrics import r2_score, mean_squared_error, mean_absolute_error\n",
    "from math import sqrt\n",
    "k = X_test.shape[1]\n",
    "n = len(X_test)\n",
    "RMSE = float(format(np.sqrt(mean_squared_error(y_test, y_predict)),'.3f'))\n",
    "MSE = mean_squared_error(y_test, y_predict)\n",
    "MAE = mean_absolute_error(y_test, y_predict)\n",
    "r2 = r2_score(y_test, y_predict)\n",
    "adj_r2 = 1-(1-r2)*(n-1)/(n-k-1)\n",
    "\n",
    "print('RMSE =',RMSE, '\\nMSE =',MSE, '\\nMAE =',MAE, '\\nR2 =', r2, '\\nAdjusted R2 =', adj_r2) "
   ]
  },
  {
   "cell_type": "markdown",
   "metadata": {},
   "source": [
    "**PRACTICE OPPORTUNITY #3 [OPTIONAL]:**\n",
    "- **Retrain the model with less 'max_depth'**\n",
    "- **Comment on the results**"
   ]
  },
  {
   "cell_type": "code",
   "execution_count": null,
   "metadata": {},
   "outputs": [],
   "source": []
  },
  {
   "cell_type": "markdown",
   "metadata": {},
   "source": [
    "# CODING TASK #6: PERFORM HYPERPARAMETERS OPTIMIZATION USING GRIDSEARCH "
   ]
  },
  {
   "cell_type": "code",
   "execution_count": null,
   "metadata": {},
   "outputs": [],
   "source": [
    "from sklearn.model_selection import GridSearchCV"
   ]
  },
  {
   "cell_type": "code",
   "execution_count": null,
   "metadata": {},
   "outputs": [],
   "source": [
    "parameters_grid = { 'max_depth': [3, 6, 10], \n",
    "                   'learning_rate': [0.01, 0.05, 0.1],\n",
    "                   'n_estimators': [100, 500, 1000],\n",
    "                   'colsample_bytree': [0.3, 0.7]}"
   ]
  },
  {
   "cell_type": "code",
   "execution_count": null,
   "metadata": {},
   "outputs": [],
   "source": [
    "import xgboost as xgb"
   ]
  },
  {
   "cell_type": "code",
   "execution_count": null,
   "metadata": {},
   "outputs": [],
   "source": [
    "model = xgb.XGBRegressor()"
   ]
  },
  {
   "cell_type": "code",
   "execution_count": null,
   "metadata": {},
   "outputs": [],
   "source": [
    "# Note that we used the \"neg_mean_squared_error\" since GridSearchCV() ranks all the algorithms (estimators) \n",
    "# and specifies which one is the best. We are trying to minimize the error.  \n",
    "xgb_gridsearch = GridSearchCV(estimator = model, \n",
    "                              param_grid = parameters_grid, \n",
    "                              scoring = 'neg_mean_squared_error',  \n",
    "                              cv = 5, \n",
    "                              verbose = 5)"
   ]
  },
  {
   "cell_type": "code",
   "execution_count": null,
   "metadata": {},
   "outputs": [],
   "source": [
    "xgb_gridsearch.fit(X_train, y_train)"
   ]
  },
  {
   "cell_type": "code",
   "execution_count": null,
   "metadata": {},
   "outputs": [],
   "source": [
    "xgb_gridsearch.best_params_"
   ]
  },
  {
   "cell_type": "code",
   "execution_count": null,
   "metadata": {},
   "outputs": [],
   "source": [
    "xgb_gridsearch.best_estimator_"
   ]
  },
  {
   "cell_type": "code",
   "execution_count": null,
   "metadata": {},
   "outputs": [],
   "source": [
    "y_predict = xgb_gridsearch.predict(X_test)"
   ]
  },
  {
   "cell_type": "code",
   "execution_count": null,
   "metadata": {},
   "outputs": [],
   "source": [
    "from sklearn.metrics import r2_score, mean_squared_error, mean_absolute_error\n",
    "from math import sqrt\n",
    "k = X_test.shape[1]\n",
    "n = len(X_test)\n",
    "RMSE = float(format(np.sqrt(mean_squared_error(y_test, y_predict)),'.3f'))\n",
    "MSE = mean_squared_error(y_test, y_predict)\n",
    "MAE = mean_absolute_error(y_test, y_predict)\n",
    "r2 = r2_score(y_test, y_predict)\n",
    "adj_r2 = 1-(1-r2)*(n-1)/(n-k-1)\n",
    "\n",
    "print('RMSE =',RMSE, '\\nMSE =',MSE, '\\nMAE =',MAE, '\\nR2 =', r2, '\\nAdjusted R2 =', adj_r2) "
   ]
  },
  {
   "cell_type": "markdown",
   "metadata": {},
   "source": [
    "**PRACTICE OPPORTUNITY #4 [OPTIONAL]:**\n",
    "- **Expand on the parameter grid to include an additional hyperparameter \"gamma\"**\n",
    "- **Try any three reasonable values for gamma. How many fits are run this time? Comment on the results**\n"
   ]
  },
  {
   "cell_type": "code",
   "execution_count": null,
   "metadata": {},
   "outputs": [],
   "source": []
  },
  {
   "cell_type": "markdown",
   "metadata": {},
   "source": [
    "# CODING TASK #7: PERFORM HYPERPARAMETERS OPTIMIZATION USING RANDOM SEARCH "
   ]
  },
  {
   "cell_type": "code",
   "execution_count": null,
   "metadata": {},
   "outputs": [],
   "source": [
    "from sklearn.model_selection import RandomizedSearchCV"
   ]
  },
  {
   "cell_type": "code",
   "execution_count": null,
   "metadata": {},
   "outputs": [],
   "source": [
    "# Define the grid of hyperparameters to search\n",
    "\n",
    "# you can choose which booster you'd like to choose: \n",
    "# Two options are available: gbtree, gblinear\n",
    "# gbtree uses tree based models while gblinear uses linear functions\n",
    "\n",
    "grid = {\n",
    "    'n_estimators': [100, 500, 700],\n",
    "    'max_depth': [2, 3, 5],\n",
    "    'learning_rate': [0.1, 0.5, 1],\n",
    "    'min_child_weight': [1, 2, 3]  \n",
    "            }\n",
    "\n",
    "# grid = {\n",
    "#    'n_estimators': [100, 500, 700],\n",
    "#     'max_depth': [2, 3, 5],\n",
    "#     'learning_rate': [0.1, 0.5, 1],\n",
    "#      'min_child_weight': [1, 2, 3],\n",
    "#     'booster': ['gbtree','gblinear']}\n",
    "\n",
    "import xgboost as xgb\n",
    "model = xgb.XGBRegressor()\n",
    "\n",
    "# Set up the random search \n",
    "random_cv = RandomizedSearchCV(estimator = model,\n",
    "                               param_distributions = grid,\n",
    "                               cv = 5, \n",
    "                               n_iter = 50,\n",
    "                               scoring = 'neg_mean_absolute_error',\n",
    "                               verbose = 5, \n",
    "                               return_train_score = True)\n",
    "random_cv.fit(X_train, y_train)\n",
    "\n",
    "random_cv.best_estimator_\n"
   ]
  },
  {
   "cell_type": "code",
   "execution_count": null,
   "metadata": {},
   "outputs": [],
   "source": [
    "y_predict = random_cv.predict(X_test)"
   ]
  },
  {
   "cell_type": "code",
   "execution_count": null,
   "metadata": {},
   "outputs": [],
   "source": [
    "from sklearn.metrics import r2_score, mean_squared_error, mean_absolute_error\n",
    "from math import sqrt\n",
    "k = X_test.shape[1]\n",
    "n = len(X_test)\n",
    "RMSE = float(format(np.sqrt(mean_squared_error(y_test, y_predict)),'.3f'))\n",
    "MSE = mean_squared_error(y_test, y_predict)\n",
    "MAE = mean_absolute_error(y_test, y_predict)\n",
    "r2 = r2_score(y_test, y_predict)\n",
    "adj_r2 = 1-(1-r2)*(n-1)/(n-k-1)\n",
    "\n",
    "print('RMSE =',RMSE, '\\nMSE =',MSE, '\\nMAE =',MAE, '\\nR2 =', r2, '\\nAdjusted R2 =', adj_r2) "
   ]
  },
  {
   "cell_type": "markdown",
   "metadata": {},
   "source": [
    "# CODING TASK #8: PERFORM HYPERPARAMETERS OPTIMIZATION USING BAYESIAN OPTIMIZATION "
   ]
  },
  {
   "cell_type": "code",
   "execution_count": null,
   "metadata": {},
   "outputs": [],
   "source": [
    "# Let's install a library called Scikit-Optimize (Skopt) which is used to perform bayesian optimization \n",
    "# BayesSearchCV class is used in a similar fashion to GridSearchCV\n",
    "# You secify the search space as a distribution instead of discrete values\n",
    "\n",
    "! pip install scikit-optimize\n",
    "from skopt import BayesSearchCV\n",
    "import xgboost as xgb\n"
   ]
  },
  {
   "cell_type": "code",
   "execution_count": null,
   "metadata": {},
   "outputs": [],
   "source": [
    "model = xgb.XGBRegressor()"
   ]
  },
  {
   "cell_type": "code",
   "execution_count": null,
   "metadata": {},
   "outputs": [],
   "source": [
    "search_space = {\n",
    "    \"learning_rate\": (0.01, 1.0, \"log-uniform\"),\n",
    "    \"max_depth\": (1, 50),\n",
    "    \"n_estimators\": (5, 500),\n",
    "}"
   ]
  },
  {
   "cell_type": "code",
   "execution_count": null,
   "metadata": {},
   "outputs": [],
   "source": [
    "xgb_bayes_search = BayesSearchCV(model, \n",
    "                               search_space, \n",
    "                               n_iter = 50, \n",
    "                               scoring = 'neg_mean_absolute_error', \n",
    "                               cv = 5)"
   ]
  },
  {
   "cell_type": "code",
   "execution_count": null,
   "metadata": {},
   "outputs": [],
   "source": [
    "result = xgb_bayes_search.fit(X_train, y_train)"
   ]
  },
  {
   "cell_type": "code",
   "execution_count": null,
   "metadata": {},
   "outputs": [],
   "source": [
    "y_predict = xgb_bayes_search.predict(X_test)"
   ]
  },
  {
   "cell_type": "code",
   "execution_count": null,
   "metadata": {},
   "outputs": [],
   "source": [
    "from sklearn.metrics import r2_score, mean_squared_error, mean_absolute_error\n",
    "from math import sqrt\n",
    "k = X_test.shape[1]\n",
    "n = len(X_test)\n",
    "RMSE = float(format(np.sqrt(mean_squared_error(y_test, y_predict)),'.3f'))\n",
    "MSE = mean_squared_error(y_test, y_predict)\n",
    "MAE = mean_absolute_error(y_test, y_predict)\n",
    "r2 = r2_score(y_test, y_predict)\n",
    "adj_r2 = 1-(1-r2)*(n-1)/(n-k-1)\n",
    "\n",
    "print('RMSE =',RMSE, '\\nMSE =',MSE, '\\nMAE =',MAE, '\\nR2 =', r2, '\\nAdjusted R2 =', adj_r2) "
   ]
  },
  {
   "cell_type": "markdown",
   "metadata": {},
   "source": [
    "# FINAL CAPSTONE PROJECT"
   ]
  },
  {
   "cell_type": "markdown",
   "metadata": {},
   "source": [
    "Using the used car prices dataset included in the course package, perform the following:\n",
    "1. Load the “used_car_price.csv” dataset \n",
    "3. Split the data into 75% for training and 25% for testing \n",
    "4. Train an XG-Boost model in Scikit-Learn\n",
    "5. Assess trained XG-Boost model performance using RMSE and R2 \n",
    "6. Perform hyperparameters optimization using GridSearch, choose any reasonable values for max_depth, learning_rate, n_estimators, and colsample_bytree. Use 5 cross validation folds.  \n",
    "7. Perform hyperparameters optimization using RandomSearch, choose any reasonable values for max_depth, learning_rate, n_estimators, and colsample_bytree. Use 5 cross validation folds and 100 iterations.  \n",
    "8. Perform hyperparameters optimization using Bayesian optimization, choose any reasonable values for max_depth, learning_rate, n_estimators. Use 5 cross validation folds and 100 iterations.  \n",
    "9. Compare the 3 optimization strategies using RMSE and R2. "
   ]
  },
  {
   "cell_type": "markdown",
   "metadata": {},
   "source": [
    "# FINAL CAPSTONE PROJECT SOLUTION"
   ]
  },
  {
   "cell_type": "code",
   "execution_count": 1,
   "metadata": {},
   "outputs": [],
   "source": [
    "import pandas as pd\n",
    "import numpy as np\n",
    "import seaborn as sns\n",
    "import matplotlib.pyplot as plt"
   ]
  },
  {
   "cell_type": "code",
   "execution_count": 2,
   "metadata": {},
   "outputs": [],
   "source": [
    "# Read the CSV file \n",
    "car_df = pd.read_csv(\"used_car_price.csv\")"
   ]
  },
  {
   "cell_type": "code",
   "execution_count": 3,
   "metadata": {},
   "outputs": [
    {
     "data": {
      "text/html": [
       "<div>\n",
       "<style scoped>\n",
       "    .dataframe tbody tr th:only-of-type {\n",
       "        vertical-align: middle;\n",
       "    }\n",
       "\n",
       "    .dataframe tbody tr th {\n",
       "        vertical-align: top;\n",
       "    }\n",
       "\n",
       "    .dataframe thead th {\n",
       "        text-align: right;\n",
       "    }\n",
       "</style>\n",
       "<table border=\"1\" class=\"dataframe\">\n",
       "  <thead>\n",
       "    <tr style=\"text-align: right;\">\n",
       "      <th></th>\n",
       "      <th>Make</th>\n",
       "      <th>Model</th>\n",
       "      <th>Type</th>\n",
       "      <th>Origin</th>\n",
       "      <th>DriveTrain</th>\n",
       "      <th>MSRP</th>\n",
       "      <th>EngineSize</th>\n",
       "      <th>Cylinders</th>\n",
       "      <th>Horsepower</th>\n",
       "      <th>MPG_City</th>\n",
       "      <th>MPG_Highway</th>\n",
       "      <th>Weight</th>\n",
       "      <th>Wheelbase</th>\n",
       "      <th>Length</th>\n",
       "    </tr>\n",
       "  </thead>\n",
       "  <tbody>\n",
       "    <tr>\n",
       "      <th>0</th>\n",
       "      <td>Acura</td>\n",
       "      <td>MDX</td>\n",
       "      <td>SUV</td>\n",
       "      <td>Asia</td>\n",
       "      <td>All</td>\n",
       "      <td>36945</td>\n",
       "      <td>3.5</td>\n",
       "      <td>6</td>\n",
       "      <td>265</td>\n",
       "      <td>17</td>\n",
       "      <td>23</td>\n",
       "      <td>4451</td>\n",
       "      <td>106</td>\n",
       "      <td>189</td>\n",
       "    </tr>\n",
       "    <tr>\n",
       "      <th>1</th>\n",
       "      <td>Acura</td>\n",
       "      <td>RSX Type S 2dr</td>\n",
       "      <td>Sedan</td>\n",
       "      <td>Asia</td>\n",
       "      <td>Front</td>\n",
       "      <td>23820</td>\n",
       "      <td>2.0</td>\n",
       "      <td>4</td>\n",
       "      <td>200</td>\n",
       "      <td>24</td>\n",
       "      <td>31</td>\n",
       "      <td>2778</td>\n",
       "      <td>101</td>\n",
       "      <td>172</td>\n",
       "    </tr>\n",
       "    <tr>\n",
       "      <th>2</th>\n",
       "      <td>Acura</td>\n",
       "      <td>TSX 4dr</td>\n",
       "      <td>Sedan</td>\n",
       "      <td>Asia</td>\n",
       "      <td>Front</td>\n",
       "      <td>26990</td>\n",
       "      <td>2.4</td>\n",
       "      <td>4</td>\n",
       "      <td>200</td>\n",
       "      <td>22</td>\n",
       "      <td>29</td>\n",
       "      <td>3230</td>\n",
       "      <td>105</td>\n",
       "      <td>183</td>\n",
       "    </tr>\n",
       "    <tr>\n",
       "      <th>3</th>\n",
       "      <td>Acura</td>\n",
       "      <td>TL 4dr</td>\n",
       "      <td>Sedan</td>\n",
       "      <td>Asia</td>\n",
       "      <td>Front</td>\n",
       "      <td>33195</td>\n",
       "      <td>3.2</td>\n",
       "      <td>6</td>\n",
       "      <td>270</td>\n",
       "      <td>20</td>\n",
       "      <td>28</td>\n",
       "      <td>3575</td>\n",
       "      <td>108</td>\n",
       "      <td>186</td>\n",
       "    </tr>\n",
       "    <tr>\n",
       "      <th>4</th>\n",
       "      <td>Acura</td>\n",
       "      <td>3.5 RL 4dr</td>\n",
       "      <td>Sedan</td>\n",
       "      <td>Asia</td>\n",
       "      <td>Front</td>\n",
       "      <td>43755</td>\n",
       "      <td>3.5</td>\n",
       "      <td>6</td>\n",
       "      <td>225</td>\n",
       "      <td>18</td>\n",
       "      <td>24</td>\n",
       "      <td>3880</td>\n",
       "      <td>115</td>\n",
       "      <td>197</td>\n",
       "    </tr>\n",
       "    <tr>\n",
       "      <th>5</th>\n",
       "      <td>Acura</td>\n",
       "      <td>3.5 RL w/Navigation 4dr</td>\n",
       "      <td>Sedan</td>\n",
       "      <td>Asia</td>\n",
       "      <td>Front</td>\n",
       "      <td>46100</td>\n",
       "      <td>3.5</td>\n",
       "      <td>6</td>\n",
       "      <td>225</td>\n",
       "      <td>18</td>\n",
       "      <td>24</td>\n",
       "      <td>3893</td>\n",
       "      <td>115</td>\n",
       "      <td>197</td>\n",
       "    </tr>\n",
       "  </tbody>\n",
       "</table>\n",
       "</div>"
      ],
      "text/plain": [
       "    Make                    Model   Type Origin DriveTrain   MSRP  EngineSize  \\\n",
       "0  Acura                      MDX    SUV   Asia        All  36945         3.5   \n",
       "1  Acura           RSX Type S 2dr  Sedan   Asia      Front  23820         2.0   \n",
       "2  Acura                  TSX 4dr  Sedan   Asia      Front  26990         2.4   \n",
       "3  Acura                   TL 4dr  Sedan   Asia      Front  33195         3.2   \n",
       "4  Acura               3.5 RL 4dr  Sedan   Asia      Front  43755         3.5   \n",
       "5  Acura  3.5 RL w/Navigation 4dr  Sedan   Asia      Front  46100         3.5   \n",
       "\n",
       "   Cylinders  Horsepower  MPG_City  MPG_Highway  Weight  Wheelbase  Length  \n",
       "0          6         265        17           23    4451        106     189  \n",
       "1          4         200        24           31    2778        101     172  \n",
       "2          4         200        22           29    3230        105     183  \n",
       "3          6         270        20           28    3575        108     186  \n",
       "4          6         225        18           24    3880        115     197  \n",
       "5          6         225        18           24    3893        115     197  "
      ]
     },
     "execution_count": 3,
     "metadata": {},
     "output_type": "execute_result"
    }
   ],
   "source": [
    "# Load the top 6 instances\n",
    "car_df.head(6)"
   ]
  },
  {
   "cell_type": "code",
   "execution_count": 4,
   "metadata": {},
   "outputs": [],
   "source": [
    "# Perform One-Hot Encoding for \"Make\", \"Model\", \"Type\", \"Origin\", and \"DriveTrain\"\n",
    "car_df = pd.get_dummies(car_df, columns=[\"Make\", \"Model\", \"Type\", \"Origin\", \"DriveTrain\"])"
   ]
  },
  {
   "cell_type": "code",
   "execution_count": 5,
   "metadata": {},
   "outputs": [],
   "source": [
    "# Feeding input features to X and output (MSRP) to y\n",
    "X = car_df.drop(\"MSRP\", axis = 1)\n",
    "y = car_df[\"MSRP\"]"
   ]
  },
  {
   "cell_type": "code",
   "execution_count": 6,
   "metadata": {},
   "outputs": [],
   "source": [
    "X = np.array(X)"
   ]
  },
  {
   "cell_type": "code",
   "execution_count": 7,
   "metadata": {},
   "outputs": [],
   "source": [
    "y = np.array(y)"
   ]
  },
  {
   "cell_type": "code",
   "execution_count": 8,
   "metadata": {},
   "outputs": [],
   "source": [
    "from sklearn.model_selection import train_test_split\n",
    "X_train, X_test, y_train, y_test= train_test_split(X, y, test_size = 0.25)"
   ]
  },
  {
   "cell_type": "code",
   "execution_count": 9,
   "metadata": {},
   "outputs": [
    {
     "data": {
      "text/plain": [
       "(321, 483)"
      ]
     },
     "execution_count": 9,
     "metadata": {},
     "output_type": "execute_result"
    }
   ],
   "source": [
    "X_train.shape"
   ]
  },
  {
   "cell_type": "code",
   "execution_count": 10,
   "metadata": {},
   "outputs": [
    {
     "data": {
      "text/plain": [
       "(107, 483)"
      ]
     },
     "execution_count": 10,
     "metadata": {},
     "output_type": "execute_result"
    }
   ],
   "source": [
    "X_test.shape"
   ]
  },
  {
   "cell_type": "markdown",
   "metadata": {},
   "source": [
    "# 1. XG-BOOST WITHOUT OPTIMIZATION"
   ]
  },
  {
   "cell_type": "code",
   "execution_count": 11,
   "metadata": {},
   "outputs": [
    {
     "name": "stdout",
     "output_type": "stream",
     "text": [
      "Requirement already satisfied: xgboost in /opt/conda/lib/python3.7/site-packages (1.6.0)\n",
      "Requirement already satisfied: scipy in /opt/conda/lib/python3.7/site-packages (from xgboost) (1.4.1)\n",
      "Requirement already satisfied: numpy in /opt/conda/lib/python3.7/site-packages (from xgboost) (1.21.6)\n",
      "\u001b[33mWARNING: Running pip as the 'root' user can result in broken permissions and conflicting behaviour with the system package manager. It is recommended to use a virtual environment instead: https://pip.pypa.io/warnings/venv\u001b[0m\u001b[33m\n",
      "\u001b[0mRMSE = 7983.068 \n",
      "R2 = 0.8080216541894797\n"
     ]
    }
   ],
   "source": [
    "!pip install xgboost\n",
    "import xgboost as xgb\n",
    "model = xgb.XGBRegressor(objective ='reg:squarederror', learning_rate = 1, max_depth = 3, n_estimators = 500)\n",
    "model.fit(X_train, y_train)\n",
    "\n",
    "# predict the score of the trained model using the testing dataset\n",
    "\n",
    "result = model.score(X_test, y_test)\n",
    "# make predictions on the test data\n",
    "y_predict = model.predict(X_test)\n",
    "\n",
    "from sklearn.metrics import r2_score, mean_squared_error, mean_absolute_error\n",
    "from math import sqrt\n",
    "\n",
    "RMSE = float(format(np.sqrt(mean_squared_error(y_test, y_predict)),'.3f'))\n",
    "r2 = r2_score(y_test, y_predict)\n",
    "\n",
    "print('RMSE =',RMSE,'\\nR2 =', r2) \n",
    "\n"
   ]
  },
  {
   "cell_type": "markdown",
   "metadata": {},
   "source": [
    "# 2. XG-BOOST WITH GRIDSEARCH"
   ]
  },
  {
   "cell_type": "code",
   "execution_count": 12,
   "metadata": {},
   "outputs": [
    {
     "name": "stdout",
     "output_type": "stream",
     "text": [
      "Fitting 5 folds for each of 24 candidates, totalling 120 fits\n",
      "[CV] colsample_bytree=0.3, learning_rate=0.1, max_depth=3, n_estimators=100 \n"
     ]
    },
    {
     "name": "stderr",
     "output_type": "stream",
     "text": [
      "[Parallel(n_jobs=1)]: Using backend SequentialBackend with 1 concurrent workers.\n"
     ]
    },
    {
     "name": "stdout",
     "output_type": "stream",
     "text": [
      "[CV]  colsample_bytree=0.3, learning_rate=0.1, max_depth=3, n_estimators=100, score=-189228899.783, total=   0.5s\n",
      "[CV] colsample_bytree=0.3, learning_rate=0.1, max_depth=3, n_estimators=100 \n"
     ]
    },
    {
     "name": "stderr",
     "output_type": "stream",
     "text": [
      "[Parallel(n_jobs=1)]: Done   1 out of   1 | elapsed:    0.5s remaining:    0.0s\n"
     ]
    },
    {
     "name": "stdout",
     "output_type": "stream",
     "text": [
      "[CV]  colsample_bytree=0.3, learning_rate=0.1, max_depth=3, n_estimators=100, score=-64335681.403, total=   0.5s\n",
      "[CV] colsample_bytree=0.3, learning_rate=0.1, max_depth=3, n_estimators=100 \n"
     ]
    },
    {
     "name": "stderr",
     "output_type": "stream",
     "text": [
      "[Parallel(n_jobs=1)]: Done   2 out of   2 | elapsed:    1.1s remaining:    0.0s\n"
     ]
    },
    {
     "name": "stdout",
     "output_type": "stream",
     "text": [
      "[CV]  colsample_bytree=0.3, learning_rate=0.1, max_depth=3, n_estimators=100, score=-44818612.165, total=   0.6s\n",
      "[CV] colsample_bytree=0.3, learning_rate=0.1, max_depth=3, n_estimators=100 \n"
     ]
    },
    {
     "name": "stderr",
     "output_type": "stream",
     "text": [
      "[Parallel(n_jobs=1)]: Done   3 out of   3 | elapsed:    1.6s remaining:    0.0s\n"
     ]
    },
    {
     "name": "stdout",
     "output_type": "stream",
     "text": [
      "[CV]  colsample_bytree=0.3, learning_rate=0.1, max_depth=3, n_estimators=100, score=-39559608.291, total=   0.5s\n",
      "[CV] colsample_bytree=0.3, learning_rate=0.1, max_depth=3, n_estimators=100 \n"
     ]
    },
    {
     "name": "stderr",
     "output_type": "stream",
     "text": [
      "[Parallel(n_jobs=1)]: Done   4 out of   4 | elapsed:    2.2s remaining:    0.0s\n"
     ]
    },
    {
     "name": "stdout",
     "output_type": "stream",
     "text": [
      "[CV]  colsample_bytree=0.3, learning_rate=0.1, max_depth=3, n_estimators=100, score=-27286467.264, total=   0.5s\n",
      "[CV] colsample_bytree=0.3, learning_rate=0.1, max_depth=3, n_estimators=500 \n",
      "[CV]  colsample_bytree=0.3, learning_rate=0.1, max_depth=3, n_estimators=500, score=-170439813.366, total=   3.1s\n",
      "[CV] colsample_bytree=0.3, learning_rate=0.1, max_depth=3, n_estimators=500 \n",
      "[CV]  colsample_bytree=0.3, learning_rate=0.1, max_depth=3, n_estimators=500, score=-61029622.303, total=   2.6s\n",
      "[CV] colsample_bytree=0.3, learning_rate=0.1, max_depth=3, n_estimators=500 \n",
      "[CV]  colsample_bytree=0.3, learning_rate=0.1, max_depth=3, n_estimators=500, score=-45214645.806, total=   2.6s\n",
      "[CV] colsample_bytree=0.3, learning_rate=0.1, max_depth=3, n_estimators=500 \n",
      "[CV]  colsample_bytree=0.3, learning_rate=0.1, max_depth=3, n_estimators=500, score=-36565261.608, total=   2.6s\n",
      "[CV] colsample_bytree=0.3, learning_rate=0.1, max_depth=3, n_estimators=500 \n",
      "[CV]  colsample_bytree=0.3, learning_rate=0.1, max_depth=3, n_estimators=500, score=-21414070.373, total=   2.6s\n",
      "[CV] colsample_bytree=0.3, learning_rate=0.1, max_depth=10, n_estimators=100 \n",
      "[CV]  colsample_bytree=0.3, learning_rate=0.1, max_depth=10, n_estimators=100, score=-188904297.709, total=   0.7s\n",
      "[CV] colsample_bytree=0.3, learning_rate=0.1, max_depth=10, n_estimators=100 \n",
      "[CV]  colsample_bytree=0.3, learning_rate=0.1, max_depth=10, n_estimators=100, score=-55507988.248, total=   0.7s\n",
      "[CV] colsample_bytree=0.3, learning_rate=0.1, max_depth=10, n_estimators=100 \n",
      "[CV]  colsample_bytree=0.3, learning_rate=0.1, max_depth=10, n_estimators=100, score=-41794674.218, total=   0.7s\n",
      "[CV] colsample_bytree=0.3, learning_rate=0.1, max_depth=10, n_estimators=100 \n",
      "[CV]  colsample_bytree=0.3, learning_rate=0.1, max_depth=10, n_estimators=100, score=-51618167.839, total=   0.7s\n",
      "[CV] colsample_bytree=0.3, learning_rate=0.1, max_depth=10, n_estimators=100 \n",
      "[CV]  colsample_bytree=0.3, learning_rate=0.1, max_depth=10, n_estimators=100, score=-32875202.783, total=   0.7s\n",
      "[CV] colsample_bytree=0.3, learning_rate=0.1, max_depth=10, n_estimators=500 \n",
      "[CV]  colsample_bytree=0.3, learning_rate=0.1, max_depth=10, n_estimators=500, score=-187432382.382, total=   3.2s\n",
      "[CV] colsample_bytree=0.3, learning_rate=0.1, max_depth=10, n_estimators=500 \n",
      "[CV]  colsample_bytree=0.3, learning_rate=0.1, max_depth=10, n_estimators=500, score=-54959405.952, total=   3.2s\n",
      "[CV] colsample_bytree=0.3, learning_rate=0.1, max_depth=10, n_estimators=500 \n",
      "[CV]  colsample_bytree=0.3, learning_rate=0.1, max_depth=10, n_estimators=500, score=-41850251.271, total=   3.2s\n",
      "[CV] colsample_bytree=0.3, learning_rate=0.1, max_depth=10, n_estimators=500 \n",
      "[CV]  colsample_bytree=0.3, learning_rate=0.1, max_depth=10, n_estimators=500, score=-51868493.138, total=   3.2s\n",
      "[CV] colsample_bytree=0.3, learning_rate=0.1, max_depth=10, n_estimators=500 \n",
      "[CV]  colsample_bytree=0.3, learning_rate=0.1, max_depth=10, n_estimators=500, score=-32300028.098, total=   3.2s\n",
      "[CV] colsample_bytree=0.3, learning_rate=0.1, max_depth=20, n_estimators=100 \n",
      "[CV]  colsample_bytree=0.3, learning_rate=0.1, max_depth=20, n_estimators=100, score=-187090542.022, total=   0.8s\n",
      "[CV] colsample_bytree=0.3, learning_rate=0.1, max_depth=20, n_estimators=100 \n",
      "[CV]  colsample_bytree=0.3, learning_rate=0.1, max_depth=20, n_estimators=100, score=-56966370.547, total=   0.8s\n",
      "[CV] colsample_bytree=0.3, learning_rate=0.1, max_depth=20, n_estimators=100 \n",
      "[CV]  colsample_bytree=0.3, learning_rate=0.1, max_depth=20, n_estimators=100, score=-44614627.223, total=   0.8s\n",
      "[CV] colsample_bytree=0.3, learning_rate=0.1, max_depth=20, n_estimators=100 \n",
      "[CV]  colsample_bytree=0.3, learning_rate=0.1, max_depth=20, n_estimators=100, score=-50766533.406, total=   0.9s\n",
      "[CV] colsample_bytree=0.3, learning_rate=0.1, max_depth=20, n_estimators=100 \n",
      "[CV]  colsample_bytree=0.3, learning_rate=0.1, max_depth=20, n_estimators=100, score=-34470039.919, total=   0.8s\n",
      "[CV] colsample_bytree=0.3, learning_rate=0.1, max_depth=20, n_estimators=500 \n",
      "[CV]  colsample_bytree=0.3, learning_rate=0.1, max_depth=20, n_estimators=500, score=-185421576.377, total=   4.2s\n",
      "[CV] colsample_bytree=0.3, learning_rate=0.1, max_depth=20, n_estimators=500 \n",
      "[CV]  colsample_bytree=0.3, learning_rate=0.1, max_depth=20, n_estimators=500, score=-56615106.381, total=   4.2s\n",
      "[CV] colsample_bytree=0.3, learning_rate=0.1, max_depth=20, n_estimators=500 \n",
      "[CV]  colsample_bytree=0.3, learning_rate=0.1, max_depth=20, n_estimators=500, score=-44943731.241, total=   4.1s\n",
      "[CV] colsample_bytree=0.3, learning_rate=0.1, max_depth=20, n_estimators=500 \n",
      "[CV]  colsample_bytree=0.3, learning_rate=0.1, max_depth=20, n_estimators=500, score=-51027748.430, total=   4.1s\n",
      "[CV] colsample_bytree=0.3, learning_rate=0.1, max_depth=20, n_estimators=500 \n",
      "[CV]  colsample_bytree=0.3, learning_rate=0.1, max_depth=20, n_estimators=500, score=-34305384.839, total=   4.1s\n",
      "[CV] colsample_bytree=0.3, learning_rate=0.5, max_depth=3, n_estimators=100 \n",
      "[CV]  colsample_bytree=0.3, learning_rate=0.5, max_depth=3, n_estimators=100, score=-212166615.584, total=   0.5s\n",
      "[CV] colsample_bytree=0.3, learning_rate=0.5, max_depth=3, n_estimators=100 \n",
      "[CV]  colsample_bytree=0.3, learning_rate=0.5, max_depth=3, n_estimators=100, score=-66457160.704, total=   0.5s\n",
      "[CV] colsample_bytree=0.3, learning_rate=0.5, max_depth=3, n_estimators=100 \n",
      "[CV]  colsample_bytree=0.3, learning_rate=0.5, max_depth=3, n_estimators=100, score=-87230547.612, total=   0.6s\n",
      "[CV] colsample_bytree=0.3, learning_rate=0.5, max_depth=3, n_estimators=100 \n",
      "[CV]  colsample_bytree=0.3, learning_rate=0.5, max_depth=3, n_estimators=100, score=-58794435.991, total=   0.5s\n",
      "[CV] colsample_bytree=0.3, learning_rate=0.5, max_depth=3, n_estimators=100 \n",
      "[CV]  colsample_bytree=0.3, learning_rate=0.5, max_depth=3, n_estimators=100, score=-39507679.561, total=   0.5s\n",
      "[CV] colsample_bytree=0.3, learning_rate=0.5, max_depth=3, n_estimators=500 \n",
      "[CV]  colsample_bytree=0.3, learning_rate=0.5, max_depth=3, n_estimators=500, score=-208879465.681, total=   2.5s\n",
      "[CV] colsample_bytree=0.3, learning_rate=0.5, max_depth=3, n_estimators=500 \n",
      "[CV]  colsample_bytree=0.3, learning_rate=0.5, max_depth=3, n_estimators=500, score=-63689759.763, total=   3.1s\n",
      "[CV] colsample_bytree=0.3, learning_rate=0.5, max_depth=3, n_estimators=500 \n",
      "[CV]  colsample_bytree=0.3, learning_rate=0.5, max_depth=3, n_estimators=500, score=-87367606.790, total=   2.6s\n",
      "[CV] colsample_bytree=0.3, learning_rate=0.5, max_depth=3, n_estimators=500 \n",
      "[CV]  colsample_bytree=0.3, learning_rate=0.5, max_depth=3, n_estimators=500, score=-58448890.400, total=   2.6s\n",
      "[CV] colsample_bytree=0.3, learning_rate=0.5, max_depth=3, n_estimators=500 \n",
      "[CV]  colsample_bytree=0.3, learning_rate=0.5, max_depth=3, n_estimators=500, score=-37485698.204, total=   2.7s\n",
      "[CV] colsample_bytree=0.3, learning_rate=0.5, max_depth=10, n_estimators=100 \n",
      "[CV]  colsample_bytree=0.3, learning_rate=0.5, max_depth=10, n_estimators=100, score=-236270110.353, total=   0.7s\n",
      "[CV] colsample_bytree=0.3, learning_rate=0.5, max_depth=10, n_estimators=100 \n",
      "[CV]  colsample_bytree=0.3, learning_rate=0.5, max_depth=10, n_estimators=100, score=-73879788.340, total=   0.7s\n",
      "[CV] colsample_bytree=0.3, learning_rate=0.5, max_depth=10, n_estimators=100 \n",
      "[CV]  colsample_bytree=0.3, learning_rate=0.5, max_depth=10, n_estimators=100, score=-56709520.046, total=   0.7s\n",
      "[CV] colsample_bytree=0.3, learning_rate=0.5, max_depth=10, n_estimators=100 \n",
      "[CV]  colsample_bytree=0.3, learning_rate=0.5, max_depth=10, n_estimators=100, score=-98819566.700, total=   0.7s\n",
      "[CV] colsample_bytree=0.3, learning_rate=0.5, max_depth=10, n_estimators=100 \n",
      "[CV]  colsample_bytree=0.3, learning_rate=0.5, max_depth=10, n_estimators=100, score=-46666174.255, total=   0.7s\n",
      "[CV] colsample_bytree=0.3, learning_rate=0.5, max_depth=10, n_estimators=500 \n",
      "[CV]  colsample_bytree=0.3, learning_rate=0.5, max_depth=10, n_estimators=500, score=-236269160.402, total=   3.2s\n",
      "[CV] colsample_bytree=0.3, learning_rate=0.5, max_depth=10, n_estimators=500 \n",
      "[CV]  colsample_bytree=0.3, learning_rate=0.5, max_depth=10, n_estimators=500, score=-73852922.518, total=   3.2s\n",
      "[CV] colsample_bytree=0.3, learning_rate=0.5, max_depth=10, n_estimators=500 \n",
      "[CV]  colsample_bytree=0.3, learning_rate=0.5, max_depth=10, n_estimators=500, score=-56709166.384, total=   3.2s\n",
      "[CV] colsample_bytree=0.3, learning_rate=0.5, max_depth=10, n_estimators=500 \n",
      "[CV]  colsample_bytree=0.3, learning_rate=0.5, max_depth=10, n_estimators=500, score=-98839006.102, total=   3.2s\n",
      "[CV] colsample_bytree=0.3, learning_rate=0.5, max_depth=10, n_estimators=500 \n",
      "[CV]  colsample_bytree=0.3, learning_rate=0.5, max_depth=10, n_estimators=500, score=-46591831.588, total=   3.2s\n",
      "[CV] colsample_bytree=0.3, learning_rate=0.5, max_depth=20, n_estimators=100 \n",
      "[CV]  colsample_bytree=0.3, learning_rate=0.5, max_depth=20, n_estimators=100, score=-238653253.295, total=   0.9s\n",
      "[CV] colsample_bytree=0.3, learning_rate=0.5, max_depth=20, n_estimators=100 \n",
      "[CV]  colsample_bytree=0.3, learning_rate=0.5, max_depth=20, n_estimators=100, score=-67975936.248, total=   0.8s\n",
      "[CV] colsample_bytree=0.3, learning_rate=0.5, max_depth=20, n_estimators=100 \n",
      "[CV]  colsample_bytree=0.3, learning_rate=0.5, max_depth=20, n_estimators=100, score=-62030327.570, total=   0.8s\n",
      "[CV] colsample_bytree=0.3, learning_rate=0.5, max_depth=20, n_estimators=100 \n",
      "[CV]  colsample_bytree=0.3, learning_rate=0.5, max_depth=20, n_estimators=100, score=-101146472.873, total=   1.0s\n",
      "[CV] colsample_bytree=0.3, learning_rate=0.5, max_depth=20, n_estimators=100 \n",
      "[CV]  colsample_bytree=0.3, learning_rate=0.5, max_depth=20, n_estimators=100, score=-53389503.605, total=   0.9s\n",
      "[CV] colsample_bytree=0.3, learning_rate=0.5, max_depth=20, n_estimators=500 \n",
      "[CV]  colsample_bytree=0.3, learning_rate=0.5, max_depth=20, n_estimators=500, score=-238653260.654, total=   3.8s\n",
      "[CV] colsample_bytree=0.3, learning_rate=0.5, max_depth=20, n_estimators=500 \n",
      "[CV]  colsample_bytree=0.3, learning_rate=0.5, max_depth=20, n_estimators=500, score=-67975859.499, total=   3.9s\n",
      "[CV] colsample_bytree=0.3, learning_rate=0.5, max_depth=20, n_estimators=500 \n",
      "[CV]  colsample_bytree=0.3, learning_rate=0.5, max_depth=20, n_estimators=500, score=-62030629.979, total=   3.8s\n",
      "[CV] colsample_bytree=0.3, learning_rate=0.5, max_depth=20, n_estimators=500 \n",
      "[CV]  colsample_bytree=0.3, learning_rate=0.5, max_depth=20, n_estimators=500, score=-101146461.399, total=   3.6s\n",
      "[CV] colsample_bytree=0.3, learning_rate=0.5, max_depth=20, n_estimators=500 \n",
      "[CV]  colsample_bytree=0.3, learning_rate=0.5, max_depth=20, n_estimators=500, score=-53389551.667, total=   3.9s\n",
      "[CV] colsample_bytree=0.7, learning_rate=0.1, max_depth=3, n_estimators=100 \n",
      "[CV]  colsample_bytree=0.7, learning_rate=0.1, max_depth=3, n_estimators=100, score=-176834320.600, total=   0.6s\n",
      "[CV] colsample_bytree=0.7, learning_rate=0.1, max_depth=3, n_estimators=100 \n",
      "[CV]  colsample_bytree=0.7, learning_rate=0.1, max_depth=3, n_estimators=100, score=-73878383.956, total=   0.6s\n",
      "[CV] colsample_bytree=0.7, learning_rate=0.1, max_depth=3, n_estimators=100 \n",
      "[CV]  colsample_bytree=0.7, learning_rate=0.1, max_depth=3, n_estimators=100, score=-53433045.807, total=   0.6s\n",
      "[CV] colsample_bytree=0.7, learning_rate=0.1, max_depth=3, n_estimators=100 \n",
      "[CV]  colsample_bytree=0.7, learning_rate=0.1, max_depth=3, n_estimators=100, score=-45529021.593, total=   0.6s\n",
      "[CV] colsample_bytree=0.7, learning_rate=0.1, max_depth=3, n_estimators=100 \n",
      "[CV]  colsample_bytree=0.7, learning_rate=0.1, max_depth=3, n_estimators=100, score=-34205674.269, total=   0.6s\n",
      "[CV] colsample_bytree=0.7, learning_rate=0.1, max_depth=3, n_estimators=500 \n",
      "[CV]  colsample_bytree=0.7, learning_rate=0.1, max_depth=3, n_estimators=500, score=-156899767.788, total=   2.8s\n",
      "[CV] colsample_bytree=0.7, learning_rate=0.1, max_depth=3, n_estimators=500 \n",
      "[CV]  colsample_bytree=0.7, learning_rate=0.1, max_depth=3, n_estimators=500, score=-65939874.210, total=   3.0s\n",
      "[CV] colsample_bytree=0.7, learning_rate=0.1, max_depth=3, n_estimators=500 \n",
      "[CV]  colsample_bytree=0.7, learning_rate=0.1, max_depth=3, n_estimators=500, score=-51215429.707, total=   3.4s\n",
      "[CV] colsample_bytree=0.7, learning_rate=0.1, max_depth=3, n_estimators=500 \n",
      "[CV]  colsample_bytree=0.7, learning_rate=0.1, max_depth=3, n_estimators=500, score=-44758998.848, total=   2.9s\n",
      "[CV] colsample_bytree=0.7, learning_rate=0.1, max_depth=3, n_estimators=500 \n",
      "[CV]  colsample_bytree=0.7, learning_rate=0.1, max_depth=3, n_estimators=500, score=-27410889.851, total=   3.0s\n",
      "[CV] colsample_bytree=0.7, learning_rate=0.1, max_depth=10, n_estimators=100 \n",
      "[CV]  colsample_bytree=0.7, learning_rate=0.1, max_depth=10, n_estimators=100, score=-155915531.152, total=   0.9s\n",
      "[CV] colsample_bytree=0.7, learning_rate=0.1, max_depth=10, n_estimators=100 \n",
      "[CV]  colsample_bytree=0.7, learning_rate=0.1, max_depth=10, n_estimators=100, score=-69452412.994, total=   0.9s\n",
      "[CV] colsample_bytree=0.7, learning_rate=0.1, max_depth=10, n_estimators=100 \n",
      "[CV]  colsample_bytree=0.7, learning_rate=0.1, max_depth=10, n_estimators=100, score=-51013797.825, total=   0.9s\n",
      "[CV] colsample_bytree=0.7, learning_rate=0.1, max_depth=10, n_estimators=100 \n",
      "[CV]  colsample_bytree=0.7, learning_rate=0.1, max_depth=10, n_estimators=100, score=-63064992.689, total=   0.9s\n",
      "[CV] colsample_bytree=0.7, learning_rate=0.1, max_depth=10, n_estimators=100 \n",
      "[CV]  colsample_bytree=0.7, learning_rate=0.1, max_depth=10, n_estimators=100, score=-47173339.418, total=   0.9s\n",
      "[CV] colsample_bytree=0.7, learning_rate=0.1, max_depth=10, n_estimators=500 \n",
      "[CV]  colsample_bytree=0.7, learning_rate=0.1, max_depth=10, n_estimators=500, score=-154909105.667, total=   4.3s\n",
      "[CV] colsample_bytree=0.7, learning_rate=0.1, max_depth=10, n_estimators=500 \n",
      "[CV]  colsample_bytree=0.7, learning_rate=0.1, max_depth=10, n_estimators=500, score=-68995279.686, total=   4.4s\n",
      "[CV] colsample_bytree=0.7, learning_rate=0.1, max_depth=10, n_estimators=500 \n",
      "[CV]  colsample_bytree=0.7, learning_rate=0.1, max_depth=10, n_estimators=500, score=-50524239.443, total=   4.4s\n",
      "[CV] colsample_bytree=0.7, learning_rate=0.1, max_depth=10, n_estimators=500 \n",
      "[CV]  colsample_bytree=0.7, learning_rate=0.1, max_depth=10, n_estimators=500, score=-63143024.606, total=   4.5s\n",
      "[CV] colsample_bytree=0.7, learning_rate=0.1, max_depth=10, n_estimators=500 \n",
      "[CV]  colsample_bytree=0.7, learning_rate=0.1, max_depth=10, n_estimators=500, score=-46526342.498, total=   4.5s\n",
      "[CV] colsample_bytree=0.7, learning_rate=0.1, max_depth=20, n_estimators=100 \n",
      "[CV]  colsample_bytree=0.7, learning_rate=0.1, max_depth=20, n_estimators=100, score=-152862502.182, total=   1.1s\n",
      "[CV] colsample_bytree=0.7, learning_rate=0.1, max_depth=20, n_estimators=100 \n",
      "[CV]  colsample_bytree=0.7, learning_rate=0.1, max_depth=20, n_estimators=100, score=-76037722.944, total=   1.2s\n",
      "[CV] colsample_bytree=0.7, learning_rate=0.1, max_depth=20, n_estimators=100 \n",
      "[CV]  colsample_bytree=0.7, learning_rate=0.1, max_depth=20, n_estimators=100, score=-53079237.500, total=   1.2s\n",
      "[CV] colsample_bytree=0.7, learning_rate=0.1, max_depth=20, n_estimators=100 \n",
      "[CV]  colsample_bytree=0.7, learning_rate=0.1, max_depth=20, n_estimators=100, score=-63466927.745, total=   1.2s\n",
      "[CV] colsample_bytree=0.7, learning_rate=0.1, max_depth=20, n_estimators=100 \n",
      "[CV]  colsample_bytree=0.7, learning_rate=0.1, max_depth=20, n_estimators=100, score=-46020939.204, total=   1.2s\n",
      "[CV] colsample_bytree=0.7, learning_rate=0.1, max_depth=20, n_estimators=500 \n",
      "[CV]  colsample_bytree=0.7, learning_rate=0.1, max_depth=20, n_estimators=500, score=-151504829.553, total=   6.1s\n",
      "[CV] colsample_bytree=0.7, learning_rate=0.1, max_depth=20, n_estimators=500 \n",
      "[CV]  colsample_bytree=0.7, learning_rate=0.1, max_depth=20, n_estimators=500, score=-75929544.898, total=   6.3s\n",
      "[CV] colsample_bytree=0.7, learning_rate=0.1, max_depth=20, n_estimators=500 \n",
      "[CV]  colsample_bytree=0.7, learning_rate=0.1, max_depth=20, n_estimators=500, score=-53179637.134, total=   6.3s\n",
      "[CV] colsample_bytree=0.7, learning_rate=0.1, max_depth=20, n_estimators=500 \n",
      "[CV]  colsample_bytree=0.7, learning_rate=0.1, max_depth=20, n_estimators=500, score=-63520667.662, total=   6.3s\n",
      "[CV] colsample_bytree=0.7, learning_rate=0.1, max_depth=20, n_estimators=500 \n",
      "[CV]  colsample_bytree=0.7, learning_rate=0.1, max_depth=20, n_estimators=500, score=-45963507.713, total=   6.3s\n",
      "[CV] colsample_bytree=0.7, learning_rate=0.5, max_depth=3, n_estimators=100 \n",
      "[CV]  colsample_bytree=0.7, learning_rate=0.5, max_depth=3, n_estimators=100, score=-155945986.596, total=   0.6s\n",
      "[CV] colsample_bytree=0.7, learning_rate=0.5, max_depth=3, n_estimators=100 \n",
      "[CV]  colsample_bytree=0.7, learning_rate=0.5, max_depth=3, n_estimators=100, score=-71705243.171, total=   0.6s\n",
      "[CV] colsample_bytree=0.7, learning_rate=0.5, max_depth=3, n_estimators=100 \n",
      "[CV]  colsample_bytree=0.7, learning_rate=0.5, max_depth=3, n_estimators=100, score=-81783357.924, total=   0.6s\n",
      "[CV] colsample_bytree=0.7, learning_rate=0.5, max_depth=3, n_estimators=100 \n",
      "[CV]  colsample_bytree=0.7, learning_rate=0.5, max_depth=3, n_estimators=100, score=-52298924.259, total=   0.6s\n",
      "[CV] colsample_bytree=0.7, learning_rate=0.5, max_depth=3, n_estimators=100 \n",
      "[CV]  colsample_bytree=0.7, learning_rate=0.5, max_depth=3, n_estimators=100, score=-47044381.687, total=   0.6s\n",
      "[CV] colsample_bytree=0.7, learning_rate=0.5, max_depth=3, n_estimators=500 \n",
      "[CV]  colsample_bytree=0.7, learning_rate=0.5, max_depth=3, n_estimators=500, score=-152303101.501, total=   2.9s\n",
      "[CV] colsample_bytree=0.7, learning_rate=0.5, max_depth=3, n_estimators=500 \n",
      "[CV]  colsample_bytree=0.7, learning_rate=0.5, max_depth=3, n_estimators=500, score=-70706177.032, total=   3.0s\n",
      "[CV] colsample_bytree=0.7, learning_rate=0.5, max_depth=3, n_estimators=500 \n",
      "[CV]  colsample_bytree=0.7, learning_rate=0.5, max_depth=3, n_estimators=500, score=-81343583.581, total=   2.9s\n",
      "[CV] colsample_bytree=0.7, learning_rate=0.5, max_depth=3, n_estimators=500 \n",
      "[CV]  colsample_bytree=0.7, learning_rate=0.5, max_depth=3, n_estimators=500, score=-51683826.142, total=   2.9s\n",
      "[CV] colsample_bytree=0.7, learning_rate=0.5, max_depth=3, n_estimators=500 \n",
      "[CV]  colsample_bytree=0.7, learning_rate=0.5, max_depth=3, n_estimators=500, score=-45145316.134, total=   3.0s\n",
      "[CV] colsample_bytree=0.7, learning_rate=0.5, max_depth=10, n_estimators=100 \n",
      "[CV]  colsample_bytree=0.7, learning_rate=0.5, max_depth=10, n_estimators=100, score=-165305962.146, total=   0.9s\n",
      "[CV] colsample_bytree=0.7, learning_rate=0.5, max_depth=10, n_estimators=100 \n",
      "[CV]  colsample_bytree=0.7, learning_rate=0.5, max_depth=10, n_estimators=100, score=-94391608.857, total=   0.9s\n",
      "[CV] colsample_bytree=0.7, learning_rate=0.5, max_depth=10, n_estimators=100 \n",
      "[CV]  colsample_bytree=0.7, learning_rate=0.5, max_depth=10, n_estimators=100, score=-73028004.154, total=   1.0s\n",
      "[CV] colsample_bytree=0.7, learning_rate=0.5, max_depth=10, n_estimators=100 \n",
      "[CV]  colsample_bytree=0.7, learning_rate=0.5, max_depth=10, n_estimators=100, score=-65288420.324, total=   0.9s\n",
      "[CV] colsample_bytree=0.7, learning_rate=0.5, max_depth=10, n_estimators=100 \n",
      "[CV]  colsample_bytree=0.7, learning_rate=0.5, max_depth=10, n_estimators=100, score=-76260168.102, total=   0.9s\n",
      "[CV] colsample_bytree=0.7, learning_rate=0.5, max_depth=10, n_estimators=500 \n",
      "[CV]  colsample_bytree=0.7, learning_rate=0.5, max_depth=10, n_estimators=500, score=-165334424.972, total=   4.3s\n",
      "[CV] colsample_bytree=0.7, learning_rate=0.5, max_depth=10, n_estimators=500 \n",
      "[CV]  colsample_bytree=0.7, learning_rate=0.5, max_depth=10, n_estimators=500, score=-94393594.788, total=   4.4s\n",
      "[CV] colsample_bytree=0.7, learning_rate=0.5, max_depth=10, n_estimators=500 \n",
      "[CV]  colsample_bytree=0.7, learning_rate=0.5, max_depth=10, n_estimators=500, score=-73011200.099, total=   4.4s\n",
      "[CV] colsample_bytree=0.7, learning_rate=0.5, max_depth=10, n_estimators=500 \n",
      "[CV]  colsample_bytree=0.7, learning_rate=0.5, max_depth=10, n_estimators=500, score=-65287886.065, total=   4.4s\n",
      "[CV] colsample_bytree=0.7, learning_rate=0.5, max_depth=10, n_estimators=500 \n",
      "[CV]  colsample_bytree=0.7, learning_rate=0.5, max_depth=10, n_estimators=500, score=-76183541.041, total=   4.4s\n",
      "[CV] colsample_bytree=0.7, learning_rate=0.5, max_depth=20, n_estimators=100 \n",
      "[CV]  colsample_bytree=0.7, learning_rate=0.5, max_depth=20, n_estimators=100, score=-176334411.304, total=   1.3s\n",
      "[CV] colsample_bytree=0.7, learning_rate=0.5, max_depth=20, n_estimators=100 \n",
      "[CV]  colsample_bytree=0.7, learning_rate=0.5, max_depth=20, n_estimators=100, score=-90305418.672, total=   1.3s\n",
      "[CV] colsample_bytree=0.7, learning_rate=0.5, max_depth=20, n_estimators=100 \n",
      "[CV]  colsample_bytree=0.7, learning_rate=0.5, max_depth=20, n_estimators=100, score=-67900355.489, total=   1.3s\n",
      "[CV] colsample_bytree=0.7, learning_rate=0.5, max_depth=20, n_estimators=100 \n",
      "[CV]  colsample_bytree=0.7, learning_rate=0.5, max_depth=20, n_estimators=100, score=-73714281.019, total=   1.3s\n",
      "[CV] colsample_bytree=0.7, learning_rate=0.5, max_depth=20, n_estimators=100 \n",
      "[CV]  colsample_bytree=0.7, learning_rate=0.5, max_depth=20, n_estimators=100, score=-81128031.667, total=   1.3s\n",
      "[CV] colsample_bytree=0.7, learning_rate=0.5, max_depth=20, n_estimators=500 \n",
      "[CV]  colsample_bytree=0.7, learning_rate=0.5, max_depth=20, n_estimators=500, score=-176334414.381, total=   6.2s\n",
      "[CV] colsample_bytree=0.7, learning_rate=0.5, max_depth=20, n_estimators=500 \n",
      "[CV]  colsample_bytree=0.7, learning_rate=0.5, max_depth=20, n_estimators=500, score=-90305392.999, total=   6.3s\n",
      "[CV] colsample_bytree=0.7, learning_rate=0.5, max_depth=20, n_estimators=500 \n",
      "[CV]  colsample_bytree=0.7, learning_rate=0.5, max_depth=20, n_estimators=500, score=-67900351.323, total=   6.3s\n",
      "[CV] colsample_bytree=0.7, learning_rate=0.5, max_depth=20, n_estimators=500 \n",
      "[CV]  colsample_bytree=0.7, learning_rate=0.5, max_depth=20, n_estimators=500, score=-73714343.611, total=   6.4s\n",
      "[CV] colsample_bytree=0.7, learning_rate=0.5, max_depth=20, n_estimators=500 \n",
      "[CV]  colsample_bytree=0.7, learning_rate=0.5, max_depth=20, n_estimators=500, score=-81128003.600, total=   7.8s\n"
     ]
    },
    {
     "name": "stderr",
     "output_type": "stream",
     "text": [
      "[Parallel(n_jobs=1)]: Done 120 out of 120 | elapsed:  4.7min finished\n"
     ]
    },
    {
     "name": "stdout",
     "output_type": "stream",
     "text": [
      "RMSE = 5090.417 \n",
      "R2 = 0.9219416758954831\n"
     ]
    }
   ],
   "source": [
    "from sklearn.model_selection import GridSearchCV\n",
    "parameters_grid = { 'max_depth': [3, 10, 20], \n",
    "                   'learning_rate': [0.1, 0.5],\n",
    "                   'n_estimators': [100, 500],\n",
    "                   'colsample_bytree': [0.3, 0.7]}\n",
    "\n",
    "model = xgb.XGBRegressor()\n",
    "\n",
    "# Note that we used the \"neg_mean_squared_error\" since GridSearchCV() ranks all the algorithms (estimators) \n",
    "# and specifies which one is the best. We are trying to minimize the error.  \n",
    "xgb_gridsearch = GridSearchCV(estimator = model, \n",
    "                              param_grid = parameters_grid, \n",
    "                              scoring = 'neg_mean_squared_error',  \n",
    "                              cv = 5, \n",
    "                              verbose = 5)\n",
    "\n",
    "xgb_gridsearch.fit(X_train, y_train)\n",
    "y_predict = xgb_gridsearch.predict(X_test)\n",
    "\n",
    "from sklearn.metrics import r2_score, mean_squared_error\n",
    "from math import sqrt\n",
    "\n",
    "RMSE = float(format(np.sqrt(mean_squared_error(y_test, y_predict)),'.3f'))\n",
    "r2 = r2_score(y_test, y_predict)\n",
    "\n",
    "print('RMSE =',RMSE,'\\nR2 =', r2) \n"
   ]
  },
  {
   "cell_type": "markdown",
   "metadata": {},
   "source": [
    "# 2. XG-BOOST WITH RANDOMSEARCH"
   ]
  },
  {
   "cell_type": "code",
   "execution_count": 13,
   "metadata": {},
   "outputs": [
    {
     "name": "stdout",
     "output_type": "stream",
     "text": [
      "Fitting 5 folds for each of 24 candidates, totalling 120 fits\n",
      "[CV] n_estimators=100, max_depth=3, learning_rate=0.1, colsample_bytree=0.3 \n"
     ]
    },
    {
     "name": "stderr",
     "output_type": "stream",
     "text": [
      "/opt/conda/lib/python3.7/site-packages/sklearn/model_selection/_search.py:281: UserWarning: The total space of parameters 24 is smaller than n_iter=100. Running 24 iterations. For exhaustive searches, use GridSearchCV.\n",
      "  % (grid_size, self.n_iter, grid_size), UserWarning)\n",
      "[Parallel(n_jobs=1)]: Using backend SequentialBackend with 1 concurrent workers.\n"
     ]
    },
    {
     "name": "stdout",
     "output_type": "stream",
     "text": [
      "[CV]  n_estimators=100, max_depth=3, learning_rate=0.1, colsample_bytree=0.3, score=(train=-2617.655, test=-5414.073), total=   0.5s\n",
      "[CV] n_estimators=100, max_depth=3, learning_rate=0.1, colsample_bytree=0.3 \n"
     ]
    },
    {
     "name": "stderr",
     "output_type": "stream",
     "text": [
      "[Parallel(n_jobs=1)]: Done   1 out of   1 | elapsed:    0.5s remaining:    0.0s\n"
     ]
    },
    {
     "name": "stdout",
     "output_type": "stream",
     "text": [
      "[CV]  n_estimators=100, max_depth=3, learning_rate=0.1, colsample_bytree=0.3, score=(train=-2399.515, test=-4701.138), total=   0.5s\n",
      "[CV] n_estimators=100, max_depth=3, learning_rate=0.1, colsample_bytree=0.3 \n"
     ]
    },
    {
     "name": "stderr",
     "output_type": "stream",
     "text": [
      "[Parallel(n_jobs=1)]: Done   2 out of   2 | elapsed:    1.1s remaining:    0.0s\n"
     ]
    },
    {
     "name": "stdout",
     "output_type": "stream",
     "text": [
      "[CV]  n_estimators=100, max_depth=3, learning_rate=0.1, colsample_bytree=0.3, score=(train=-2512.191, test=-4587.913), total=   0.5s\n",
      "[CV] n_estimators=100, max_depth=3, learning_rate=0.1, colsample_bytree=0.3 \n"
     ]
    },
    {
     "name": "stderr",
     "output_type": "stream",
     "text": [
      "[Parallel(n_jobs=1)]: Done   3 out of   3 | elapsed:    1.6s remaining:    0.0s\n"
     ]
    },
    {
     "name": "stdout",
     "output_type": "stream",
     "text": [
      "[CV]  n_estimators=100, max_depth=3, learning_rate=0.1, colsample_bytree=0.3, score=(train=-2549.226, test=-4588.942), total=   0.5s\n",
      "[CV] n_estimators=100, max_depth=3, learning_rate=0.1, colsample_bytree=0.3 \n"
     ]
    },
    {
     "name": "stderr",
     "output_type": "stream",
     "text": [
      "[Parallel(n_jobs=1)]: Done   4 out of   4 | elapsed:    2.2s remaining:    0.0s\n"
     ]
    },
    {
     "name": "stdout",
     "output_type": "stream",
     "text": [
      "[CV]  n_estimators=100, max_depth=3, learning_rate=0.1, colsample_bytree=0.3, score=(train=-2699.915, test=-3855.046), total=   0.5s\n",
      "[CV] n_estimators=500, max_depth=3, learning_rate=0.1, colsample_bytree=0.3 \n",
      "[CV]  n_estimators=500, max_depth=3, learning_rate=0.1, colsample_bytree=0.3, score=(train=-1152.486, test=-5142.196), total=   2.5s\n",
      "[CV] n_estimators=500, max_depth=3, learning_rate=0.1, colsample_bytree=0.3 \n",
      "[CV]  n_estimators=500, max_depth=3, learning_rate=0.1, colsample_bytree=0.3, score=(train=-1077.416, test=-4468.399), total=   2.6s\n",
      "[CV] n_estimators=500, max_depth=3, learning_rate=0.1, colsample_bytree=0.3 \n",
      "[CV]  n_estimators=500, max_depth=3, learning_rate=0.1, colsample_bytree=0.3, score=(train=-1065.646, test=-4345.897), total=   2.6s\n",
      "[CV] n_estimators=500, max_depth=3, learning_rate=0.1, colsample_bytree=0.3 \n",
      "[CV]  n_estimators=500, max_depth=3, learning_rate=0.1, colsample_bytree=0.3, score=(train=-1120.250, test=-4393.017), total=   2.5s\n",
      "[CV] n_estimators=500, max_depth=3, learning_rate=0.1, colsample_bytree=0.3 \n",
      "[CV]  n_estimators=500, max_depth=3, learning_rate=0.1, colsample_bytree=0.3, score=(train=-1215.227, test=-3385.168), total=   2.6s\n",
      "[CV] n_estimators=100, max_depth=10, learning_rate=0.1, colsample_bytree=0.3 \n",
      "[CV]  n_estimators=100, max_depth=10, learning_rate=0.1, colsample_bytree=0.3, score=(train=-267.962, test=-5377.139), total=   0.7s\n",
      "[CV] n_estimators=100, max_depth=10, learning_rate=0.1, colsample_bytree=0.3 \n",
      "[CV]  n_estimators=100, max_depth=10, learning_rate=0.1, colsample_bytree=0.3, score=(train=-265.050, test=-4612.487), total=   0.7s\n",
      "[CV] n_estimators=100, max_depth=10, learning_rate=0.1, colsample_bytree=0.3 \n",
      "[CV]  n_estimators=100, max_depth=10, learning_rate=0.1, colsample_bytree=0.3, score=(train=-294.723, test=-4513.926), total=   0.7s\n",
      "[CV] n_estimators=100, max_depth=10, learning_rate=0.1, colsample_bytree=0.3 \n",
      "[CV]  n_estimators=100, max_depth=10, learning_rate=0.1, colsample_bytree=0.3, score=(train=-254.380, test=-4830.209), total=   0.7s\n",
      "[CV] n_estimators=100, max_depth=10, learning_rate=0.1, colsample_bytree=0.3 \n",
      "[CV]  n_estimators=100, max_depth=10, learning_rate=0.1, colsample_bytree=0.3, score=(train=-256.512, test=-3704.773), total=   0.7s\n",
      "[CV] n_estimators=500, max_depth=10, learning_rate=0.1, colsample_bytree=0.3 \n",
      "[CV]  n_estimators=500, max_depth=10, learning_rate=0.1, colsample_bytree=0.3, score=(train=-18.244, test=-5359.408), total=   3.2s\n",
      "[CV] n_estimators=500, max_depth=10, learning_rate=0.1, colsample_bytree=0.3 \n",
      "[CV]  n_estimators=500, max_depth=10, learning_rate=0.1, colsample_bytree=0.3, score=(train=-14.369, test=-4599.432), total=   3.2s\n",
      "[CV] n_estimators=500, max_depth=10, learning_rate=0.1, colsample_bytree=0.3 \n",
      "[CV]  n_estimators=500, max_depth=10, learning_rate=0.1, colsample_bytree=0.3, score=(train=-23.069, test=-4487.255), total=   3.2s\n",
      "[CV] n_estimators=500, max_depth=10, learning_rate=0.1, colsample_bytree=0.3 \n",
      "[CV]  n_estimators=500, max_depth=10, learning_rate=0.1, colsample_bytree=0.3, score=(train=-15.778, test=-4848.406), total=   3.2s\n",
      "[CV] n_estimators=500, max_depth=10, learning_rate=0.1, colsample_bytree=0.3 \n",
      "[CV]  n_estimators=500, max_depth=10, learning_rate=0.1, colsample_bytree=0.3, score=(train=-18.837, test=-3654.502), total=   3.3s\n",
      "[CV] n_estimators=100, max_depth=20, learning_rate=0.1, colsample_bytree=0.3 \n",
      "[CV]  n_estimators=100, max_depth=20, learning_rate=0.1, colsample_bytree=0.3, score=(train=-62.382, test=-5412.148), total=   0.8s\n",
      "[CV] n_estimators=100, max_depth=20, learning_rate=0.1, colsample_bytree=0.3 \n",
      "[CV]  n_estimators=100, max_depth=20, learning_rate=0.1, colsample_bytree=0.3, score=(train=-60.433, test=-4722.081), total=   0.8s\n",
      "[CV] n_estimators=100, max_depth=20, learning_rate=0.1, colsample_bytree=0.3 \n",
      "[CV]  n_estimators=100, max_depth=20, learning_rate=0.1, colsample_bytree=0.3, score=(train=-63.158, test=-4416.888), total=   0.8s\n",
      "[CV] n_estimators=100, max_depth=20, learning_rate=0.1, colsample_bytree=0.3 \n",
      "[CV]  n_estimators=100, max_depth=20, learning_rate=0.1, colsample_bytree=0.3, score=(train=-67.483, test=-4850.516), total=   0.8s\n",
      "[CV] n_estimators=100, max_depth=20, learning_rate=0.1, colsample_bytree=0.3 \n",
      "[CV]  n_estimators=100, max_depth=20, learning_rate=0.1, colsample_bytree=0.3, score=(train=-63.775, test=-3978.956), total=   0.8s\n",
      "[CV] n_estimators=500, max_depth=20, learning_rate=0.1, colsample_bytree=0.3 \n",
      "[CV]  n_estimators=500, max_depth=20, learning_rate=0.1, colsample_bytree=0.3, score=(train=-0.013, test=-5396.553), total=   4.1s\n",
      "[CV] n_estimators=500, max_depth=20, learning_rate=0.1, colsample_bytree=0.3 \n",
      "[CV]  n_estimators=500, max_depth=20, learning_rate=0.1, colsample_bytree=0.3, score=(train=-0.013, test=-4718.338), total=   4.2s\n",
      "[CV] n_estimators=500, max_depth=20, learning_rate=0.1, colsample_bytree=0.3 \n",
      "[CV]  n_estimators=500, max_depth=20, learning_rate=0.1, colsample_bytree=0.3, score=(train=-0.014, test=-4421.238), total=   4.3s\n",
      "[CV] n_estimators=500, max_depth=20, learning_rate=0.1, colsample_bytree=0.3 \n",
      "[CV]  n_estimators=500, max_depth=20, learning_rate=0.1, colsample_bytree=0.3, score=(train=-0.015, test=-4858.742), total=   4.6s\n",
      "[CV] n_estimators=500, max_depth=20, learning_rate=0.1, colsample_bytree=0.3 \n",
      "[CV]  n_estimators=500, max_depth=20, learning_rate=0.1, colsample_bytree=0.3, score=(train=-0.014, test=-3968.106), total=   4.3s\n",
      "[CV] n_estimators=100, max_depth=3, learning_rate=0.5, colsample_bytree=0.3 \n",
      "[CV]  n_estimators=100, max_depth=3, learning_rate=0.5, colsample_bytree=0.3, score=(train=-937.646, test=-6134.694), total=   0.5s\n",
      "[CV] n_estimators=100, max_depth=3, learning_rate=0.5, colsample_bytree=0.3 \n",
      "[CV]  n_estimators=100, max_depth=3, learning_rate=0.5, colsample_bytree=0.3, score=(train=-1011.146, test=-5115.361), total=   0.5s\n",
      "[CV] n_estimators=100, max_depth=3, learning_rate=0.5, colsample_bytree=0.3 \n",
      "[CV]  n_estimators=100, max_depth=3, learning_rate=0.5, colsample_bytree=0.3, score=(train=-957.706, test=-5435.394), total=   0.5s\n",
      "[CV] n_estimators=100, max_depth=3, learning_rate=0.5, colsample_bytree=0.3 \n",
      "[CV]  n_estimators=100, max_depth=3, learning_rate=0.5, colsample_bytree=0.3, score=(train=-964.301, test=-5132.444), total=   0.6s\n",
      "[CV] n_estimators=100, max_depth=3, learning_rate=0.5, colsample_bytree=0.3 \n",
      "[CV]  n_estimators=100, max_depth=3, learning_rate=0.5, colsample_bytree=0.3, score=(train=-1118.756, test=-4116.235), total=   0.5s\n",
      "[CV] n_estimators=500, max_depth=3, learning_rate=0.5, colsample_bytree=0.3 \n",
      "[CV]  n_estimators=500, max_depth=3, learning_rate=0.5, colsample_bytree=0.3, score=(train=-86.229, test=-5994.018), total=   2.6s\n",
      "[CV] n_estimators=500, max_depth=3, learning_rate=0.5, colsample_bytree=0.3 \n",
      "[CV]  n_estimators=500, max_depth=3, learning_rate=0.5, colsample_bytree=0.3, score=(train=-75.188, test=-4968.935), total=   2.6s\n",
      "[CV] n_estimators=500, max_depth=3, learning_rate=0.5, colsample_bytree=0.3 \n",
      "[CV]  n_estimators=500, max_depth=3, learning_rate=0.5, colsample_bytree=0.3, score=(train=-92.477, test=-5397.737), total=   2.6s\n",
      "[CV] n_estimators=500, max_depth=3, learning_rate=0.5, colsample_bytree=0.3 \n",
      "[CV]  n_estimators=500, max_depth=3, learning_rate=0.5, colsample_bytree=0.3, score=(train=-81.599, test=-5078.884), total=   2.6s\n",
      "[CV] n_estimators=500, max_depth=3, learning_rate=0.5, colsample_bytree=0.3 \n",
      "[CV]  n_estimators=500, max_depth=3, learning_rate=0.5, colsample_bytree=0.3, score=(train=-82.983, test=-3998.341), total=   2.6s\n",
      "[CV] n_estimators=100, max_depth=10, learning_rate=0.5, colsample_bytree=0.3 \n",
      "[CV]  n_estimators=100, max_depth=10, learning_rate=0.5, colsample_bytree=0.3, score=(train=-15.185, test=-6982.305), total=   0.7s\n",
      "[CV] n_estimators=100, max_depth=10, learning_rate=0.5, colsample_bytree=0.3 \n",
      "[CV]  n_estimators=100, max_depth=10, learning_rate=0.5, colsample_bytree=0.3, score=(train=-12.921, test=-5517.467), total=   0.7s\n",
      "[CV] n_estimators=100, max_depth=10, learning_rate=0.5, colsample_bytree=0.3 \n",
      "[CV]  n_estimators=100, max_depth=10, learning_rate=0.5, colsample_bytree=0.3, score=(train=-16.353, test=-5215.885), total=   0.7s\n",
      "[CV] n_estimators=100, max_depth=10, learning_rate=0.5, colsample_bytree=0.3 \n",
      "[CV]  n_estimators=100, max_depth=10, learning_rate=0.5, colsample_bytree=0.3, score=(train=-26.857, test=-5890.047), total=   0.7s\n",
      "[CV] n_estimators=100, max_depth=10, learning_rate=0.5, colsample_bytree=0.3 \n",
      "[CV]  n_estimators=100, max_depth=10, learning_rate=0.5, colsample_bytree=0.3, score=(train=-34.713, test=-4493.062), total=   0.7s\n",
      "[CV] n_estimators=500, max_depth=10, learning_rate=0.5, colsample_bytree=0.3 \n",
      "[CV]  n_estimators=500, max_depth=10, learning_rate=0.5, colsample_bytree=0.3, score=(train=-0.001, test=-6981.603), total=   3.2s\n",
      "[CV] n_estimators=500, max_depth=10, learning_rate=0.5, colsample_bytree=0.3 \n",
      "[CV]  n_estimators=500, max_depth=10, learning_rate=0.5, colsample_bytree=0.3, score=(train=-0.001, test=-5517.997), total=   3.2s\n",
      "[CV] n_estimators=500, max_depth=10, learning_rate=0.5, colsample_bytree=0.3 \n",
      "[CV]  n_estimators=500, max_depth=10, learning_rate=0.5, colsample_bytree=0.3, score=(train=-0.001, test=-5216.980), total=   3.7s\n",
      "[CV] n_estimators=500, max_depth=10, learning_rate=0.5, colsample_bytree=0.3 \n",
      "[CV]  n_estimators=500, max_depth=10, learning_rate=0.5, colsample_bytree=0.3, score=(train=-0.001, test=-5891.548), total=   3.2s\n",
      "[CV] n_estimators=500, max_depth=10, learning_rate=0.5, colsample_bytree=0.3 \n",
      "[CV]  n_estimators=500, max_depth=10, learning_rate=0.5, colsample_bytree=0.3, score=(train=-0.002, test=-4488.125), total=   3.2s\n",
      "[CV] n_estimators=100, max_depth=20, learning_rate=0.5, colsample_bytree=0.3 \n",
      "[CV]  n_estimators=100, max_depth=20, learning_rate=0.5, colsample_bytree=0.3, score=(train=-0.003, test=-7093.610), total=   0.8s\n",
      "[CV] n_estimators=100, max_depth=20, learning_rate=0.5, colsample_bytree=0.3 \n",
      "[CV]  n_estimators=100, max_depth=20, learning_rate=0.5, colsample_bytree=0.3, score=(train=-0.002, test=-5733.845), total=   0.9s\n",
      "[CV] n_estimators=100, max_depth=20, learning_rate=0.5, colsample_bytree=0.3 \n",
      "[CV]  n_estimators=100, max_depth=20, learning_rate=0.5, colsample_bytree=0.3, score=(train=-0.003, test=-5479.892), total=   0.9s\n",
      "[CV] n_estimators=100, max_depth=20, learning_rate=0.5, colsample_bytree=0.3 \n",
      "[CV]  n_estimators=100, max_depth=20, learning_rate=0.5, colsample_bytree=0.3, score=(train=-0.002, test=-6026.737), total=   0.9s\n",
      "[CV] n_estimators=100, max_depth=20, learning_rate=0.5, colsample_bytree=0.3 \n",
      "[CV]  n_estimators=100, max_depth=20, learning_rate=0.5, colsample_bytree=0.3, score=(train=-0.001, test=-4859.866), total=   0.8s\n",
      "[CV] n_estimators=500, max_depth=20, learning_rate=0.5, colsample_bytree=0.3 \n",
      "[CV]  n_estimators=500, max_depth=20, learning_rate=0.5, colsample_bytree=0.3, score=(train=-0.000, test=-7093.610), total=   3.7s\n",
      "[CV] n_estimators=500, max_depth=20, learning_rate=0.5, colsample_bytree=0.3 \n",
      "[CV]  n_estimators=500, max_depth=20, learning_rate=0.5, colsample_bytree=0.3, score=(train=-0.001, test=-5733.845), total=   3.8s\n",
      "[CV] n_estimators=500, max_depth=20, learning_rate=0.5, colsample_bytree=0.3 \n",
      "[CV]  n_estimators=500, max_depth=20, learning_rate=0.5, colsample_bytree=0.3, score=(train=-0.001, test=-5479.902), total=   3.9s\n",
      "[CV] n_estimators=500, max_depth=20, learning_rate=0.5, colsample_bytree=0.3 \n",
      "[CV]  n_estimators=500, max_depth=20, learning_rate=0.5, colsample_bytree=0.3, score=(train=-0.000, test=-6026.738), total=   3.8s\n",
      "[CV] n_estimators=500, max_depth=20, learning_rate=0.5, colsample_bytree=0.3 \n",
      "[CV]  n_estimators=500, max_depth=20, learning_rate=0.5, colsample_bytree=0.3, score=(train=-0.001, test=-4859.864), total=   3.9s\n",
      "[CV] n_estimators=100, max_depth=3, learning_rate=0.1, colsample_bytree=0.7 \n",
      "[CV]  n_estimators=100, max_depth=3, learning_rate=0.1, colsample_bytree=0.7, score=(train=-2287.917, test=-5418.358), total=   0.6s\n",
      "[CV] n_estimators=100, max_depth=3, learning_rate=0.1, colsample_bytree=0.7 \n",
      "[CV]  n_estimators=100, max_depth=3, learning_rate=0.1, colsample_bytree=0.7, score=(train=-2403.652, test=-5051.088), total=   0.6s\n",
      "[CV] n_estimators=100, max_depth=3, learning_rate=0.1, colsample_bytree=0.7 \n",
      "[CV]  n_estimators=100, max_depth=3, learning_rate=0.1, colsample_bytree=0.7, score=(train=-2327.041, test=-4542.609), total=   0.6s\n",
      "[CV] n_estimators=100, max_depth=3, learning_rate=0.1, colsample_bytree=0.7 \n",
      "[CV]  n_estimators=100, max_depth=3, learning_rate=0.1, colsample_bytree=0.7, score=(train=-2503.233, test=-4493.877), total=   0.6s\n",
      "[CV] n_estimators=100, max_depth=3, learning_rate=0.1, colsample_bytree=0.7 \n",
      "[CV]  n_estimators=100, max_depth=3, learning_rate=0.1, colsample_bytree=0.7, score=(train=-2685.628, test=-4081.471), total=   0.6s\n",
      "[CV] n_estimators=500, max_depth=3, learning_rate=0.1, colsample_bytree=0.7 \n",
      "[CV]  n_estimators=500, max_depth=3, learning_rate=0.1, colsample_bytree=0.7, score=(train=-1001.123, test=-4914.704), total=   2.9s\n",
      "[CV] n_estimators=500, max_depth=3, learning_rate=0.1, colsample_bytree=0.7 \n",
      "[CV]  n_estimators=500, max_depth=3, learning_rate=0.1, colsample_bytree=0.7, score=(train=-995.532, test=-4659.797), total=   2.9s\n",
      "[CV] n_estimators=500, max_depth=3, learning_rate=0.1, colsample_bytree=0.7 \n",
      "[CV]  n_estimators=500, max_depth=3, learning_rate=0.1, colsample_bytree=0.7, score=(train=-1023.536, test=-4265.209), total=   2.9s\n",
      "[CV] n_estimators=500, max_depth=3, learning_rate=0.1, colsample_bytree=0.7 \n",
      "[CV]  n_estimators=500, max_depth=3, learning_rate=0.1, colsample_bytree=0.7, score=(train=-1067.241, test=-4372.731), total=   2.9s\n",
      "[CV] n_estimators=500, max_depth=3, learning_rate=0.1, colsample_bytree=0.7 \n",
      "[CV]  n_estimators=500, max_depth=3, learning_rate=0.1, colsample_bytree=0.7, score=(train=-1207.968, test=-3627.070), total=   2.9s\n",
      "[CV] n_estimators=100, max_depth=10, learning_rate=0.1, colsample_bytree=0.7 \n",
      "[CV]  n_estimators=100, max_depth=10, learning_rate=0.1, colsample_bytree=0.7, score=(train=-246.191, test=-5523.410), total=   0.9s\n",
      "[CV] n_estimators=100, max_depth=10, learning_rate=0.1, colsample_bytree=0.7 \n",
      "[CV]  n_estimators=100, max_depth=10, learning_rate=0.1, colsample_bytree=0.7, score=(train=-226.455, test=-4747.673), total=   0.9s\n",
      "[CV] n_estimators=100, max_depth=10, learning_rate=0.1, colsample_bytree=0.7 \n",
      "[CV]  n_estimators=100, max_depth=10, learning_rate=0.1, colsample_bytree=0.7, score=(train=-258.592, test=-4536.326), total=   0.9s\n",
      "[CV] n_estimators=100, max_depth=10, learning_rate=0.1, colsample_bytree=0.7 \n",
      "[CV]  n_estimators=100, max_depth=10, learning_rate=0.1, colsample_bytree=0.7, score=(train=-178.016, test=-4743.361), total=   0.9s\n",
      "[CV] n_estimators=100, max_depth=10, learning_rate=0.1, colsample_bytree=0.7 \n",
      "[CV]  n_estimators=100, max_depth=10, learning_rate=0.1, colsample_bytree=0.7, score=(train=-253.217, test=-4326.008), total=   0.9s\n",
      "[CV] n_estimators=500, max_depth=10, learning_rate=0.1, colsample_bytree=0.7 \n",
      "[CV]  n_estimators=500, max_depth=10, learning_rate=0.1, colsample_bytree=0.7, score=(train=-11.444, test=-5513.972), total=   4.3s\n",
      "[CV] n_estimators=500, max_depth=10, learning_rate=0.1, colsample_bytree=0.7 \n",
      "[CV]  n_estimators=500, max_depth=10, learning_rate=0.1, colsample_bytree=0.7, score=(train=-12.478, test=-4733.586), total=   4.4s\n",
      "[CV] n_estimators=500, max_depth=10, learning_rate=0.1, colsample_bytree=0.7 \n",
      "[CV]  n_estimators=500, max_depth=10, learning_rate=0.1, colsample_bytree=0.7, score=(train=-15.299, test=-4496.661), total=   4.4s\n",
      "[CV] n_estimators=500, max_depth=10, learning_rate=0.1, colsample_bytree=0.7 \n",
      "[CV]  n_estimators=500, max_depth=10, learning_rate=0.1, colsample_bytree=0.7, score=(train=-7.758, test=-4739.206), total=   4.4s\n",
      "[CV] n_estimators=500, max_depth=10, learning_rate=0.1, colsample_bytree=0.7 \n",
      "[CV]  n_estimators=500, max_depth=10, learning_rate=0.1, colsample_bytree=0.7, score=(train=-18.973, test=-4278.330), total=   4.4s\n",
      "[CV] n_estimators=100, max_depth=20, learning_rate=0.1, colsample_bytree=0.7 \n",
      "[CV]  n_estimators=100, max_depth=20, learning_rate=0.1, colsample_bytree=0.7, score=(train=-31.301, test=-5649.974), total=   1.2s\n",
      "[CV] n_estimators=100, max_depth=20, learning_rate=0.1, colsample_bytree=0.7 \n",
      "[CV]  n_estimators=100, max_depth=20, learning_rate=0.1, colsample_bytree=0.7, score=(train=-31.556, test=-5020.448), total=   1.2s\n",
      "[CV] n_estimators=100, max_depth=20, learning_rate=0.1, colsample_bytree=0.7 \n",
      "[CV]  n_estimators=100, max_depth=20, learning_rate=0.1, colsample_bytree=0.7, score=(train=-31.664, test=-4599.465), total=   1.2s\n",
      "[CV] n_estimators=100, max_depth=20, learning_rate=0.1, colsample_bytree=0.7 \n",
      "[CV]  n_estimators=100, max_depth=20, learning_rate=0.1, colsample_bytree=0.7, score=(train=-30.805, test=-4905.406), total=   1.2s\n",
      "[CV] n_estimators=100, max_depth=20, learning_rate=0.1, colsample_bytree=0.7 \n",
      "[CV]  n_estimators=100, max_depth=20, learning_rate=0.1, colsample_bytree=0.7, score=(train=-34.350, test=-4286.762), total=   1.2s\n",
      "[CV] n_estimators=500, max_depth=20, learning_rate=0.1, colsample_bytree=0.7 \n",
      "[CV]  n_estimators=500, max_depth=20, learning_rate=0.1, colsample_bytree=0.7, score=(train=-0.014, test=-5642.057), total=   6.4s\n",
      "[CV] n_estimators=500, max_depth=20, learning_rate=0.1, colsample_bytree=0.7 \n",
      "[CV]  n_estimators=500, max_depth=20, learning_rate=0.1, colsample_bytree=0.7, score=(train=-0.012, test=-5018.807), total=   6.3s\n",
      "[CV] n_estimators=500, max_depth=20, learning_rate=0.1, colsample_bytree=0.7 \n",
      "[CV]  n_estimators=500, max_depth=20, learning_rate=0.1, colsample_bytree=0.7, score=(train=-0.015, test=-4599.665), total=   6.3s\n",
      "[CV] n_estimators=500, max_depth=20, learning_rate=0.1, colsample_bytree=0.7 \n",
      "[CV]  n_estimators=500, max_depth=20, learning_rate=0.1, colsample_bytree=0.7, score=(train=-0.013, test=-4908.550), total=   6.3s\n",
      "[CV] n_estimators=500, max_depth=20, learning_rate=0.1, colsample_bytree=0.7 \n",
      "[CV]  n_estimators=500, max_depth=20, learning_rate=0.1, colsample_bytree=0.7, score=(train=-0.014, test=-4283.500), total=   6.3s\n",
      "[CV] n_estimators=100, max_depth=3, learning_rate=0.5, colsample_bytree=0.7 \n",
      "[CV]  n_estimators=100, max_depth=3, learning_rate=0.5, colsample_bytree=0.7, score=(train=-956.569, test=-5679.972), total=   0.6s\n",
      "[CV] n_estimators=100, max_depth=3, learning_rate=0.5, colsample_bytree=0.7 \n",
      "[CV]  n_estimators=100, max_depth=3, learning_rate=0.5, colsample_bytree=0.7, score=(train=-969.115, test=-4841.151), total=   0.6s\n",
      "[CV] n_estimators=100, max_depth=3, learning_rate=0.5, colsample_bytree=0.7 \n",
      "[CV]  n_estimators=100, max_depth=3, learning_rate=0.5, colsample_bytree=0.7, score=(train=-902.545, test=-5404.154), total=   0.6s\n",
      "[CV] n_estimators=100, max_depth=3, learning_rate=0.5, colsample_bytree=0.7 \n",
      "[CV]  n_estimators=100, max_depth=3, learning_rate=0.5, colsample_bytree=0.7, score=(train=-928.443, test=-4800.847), total=   0.6s\n",
      "[CV] n_estimators=100, max_depth=3, learning_rate=0.5, colsample_bytree=0.7 \n",
      "[CV]  n_estimators=100, max_depth=3, learning_rate=0.5, colsample_bytree=0.7, score=(train=-1009.034, test=-4263.487), total=   0.6s\n",
      "[CV] n_estimators=500, max_depth=3, learning_rate=0.5, colsample_bytree=0.7 \n",
      "[CV]  n_estimators=500, max_depth=3, learning_rate=0.5, colsample_bytree=0.7, score=(train=-61.902, test=-5648.618), total=   2.8s\n",
      "[CV] n_estimators=500, max_depth=3, learning_rate=0.5, colsample_bytree=0.7 \n",
      "[CV]  n_estimators=500, max_depth=3, learning_rate=0.5, colsample_bytree=0.7, score=(train=-74.933, test=-4731.583), total=   2.9s\n",
      "[CV] n_estimators=500, max_depth=3, learning_rate=0.5, colsample_bytree=0.7 \n",
      "[CV]  n_estimators=500, max_depth=3, learning_rate=0.5, colsample_bytree=0.7, score=(train=-70.613, test=-5314.508), total=   2.9s\n",
      "[CV] n_estimators=500, max_depth=3, learning_rate=0.5, colsample_bytree=0.7 \n",
      "[CV]  n_estimators=500, max_depth=3, learning_rate=0.5, colsample_bytree=0.7, score=(train=-89.012, test=-4770.083), total=   2.9s\n",
      "[CV] n_estimators=500, max_depth=3, learning_rate=0.5, colsample_bytree=0.7 \n",
      "[CV]  n_estimators=500, max_depth=3, learning_rate=0.5, colsample_bytree=0.7, score=(train=-75.901, test=-4140.499), total=   2.9s\n",
      "[CV] n_estimators=100, max_depth=10, learning_rate=0.5, colsample_bytree=0.7 \n",
      "[CV]  n_estimators=100, max_depth=10, learning_rate=0.5, colsample_bytree=0.7, score=(train=-10.949, test=-6209.419), total=   0.9s\n",
      "[CV] n_estimators=100, max_depth=10, learning_rate=0.5, colsample_bytree=0.7 \n",
      "[CV]  n_estimators=100, max_depth=10, learning_rate=0.5, colsample_bytree=0.7, score=(train=-9.017, test=-6010.740), total=   0.9s\n",
      "[CV] n_estimators=100, max_depth=10, learning_rate=0.5, colsample_bytree=0.7 \n",
      "[CV]  n_estimators=100, max_depth=10, learning_rate=0.5, colsample_bytree=0.7, score=(train=-14.254, test=-5684.882), total=   0.9s\n",
      "[CV] n_estimators=100, max_depth=10, learning_rate=0.5, colsample_bytree=0.7 \n",
      "[CV]  n_estimators=100, max_depth=10, learning_rate=0.5, colsample_bytree=0.7, score=(train=-8.005, test=-5170.984), total=   0.9s\n",
      "[CV] n_estimators=100, max_depth=10, learning_rate=0.5, colsample_bytree=0.7 \n",
      "[CV]  n_estimators=100, max_depth=10, learning_rate=0.5, colsample_bytree=0.7, score=(train=-17.247, test=-5380.456), total=   0.9s\n",
      "[CV] n_estimators=500, max_depth=10, learning_rate=0.5, colsample_bytree=0.7 \n",
      "[CV]  n_estimators=500, max_depth=10, learning_rate=0.5, colsample_bytree=0.7, score=(train=-0.002, test=-6209.053), total=   4.3s\n",
      "[CV] n_estimators=500, max_depth=10, learning_rate=0.5, colsample_bytree=0.7 \n",
      "[CV]  n_estimators=500, max_depth=10, learning_rate=0.5, colsample_bytree=0.7, score=(train=-0.003, test=-6011.299), total=   4.5s\n",
      "[CV] n_estimators=500, max_depth=10, learning_rate=0.5, colsample_bytree=0.7 \n",
      "[CV]  n_estimators=500, max_depth=10, learning_rate=0.5, colsample_bytree=0.7, score=(train=-0.002, test=-5683.529), total=   5.0s\n",
      "[CV] n_estimators=500, max_depth=10, learning_rate=0.5, colsample_bytree=0.7 \n",
      "[CV]  n_estimators=500, max_depth=10, learning_rate=0.5, colsample_bytree=0.7, score=(train=-0.002, test=-5170.726), total=   4.4s\n",
      "[CV] n_estimators=500, max_depth=10, learning_rate=0.5, colsample_bytree=0.7 \n",
      "[CV]  n_estimators=500, max_depth=10, learning_rate=0.5, colsample_bytree=0.7, score=(train=-0.003, test=-5377.350), total=   4.4s\n",
      "[CV] n_estimators=100, max_depth=20, learning_rate=0.5, colsample_bytree=0.7 \n",
      "[CV]  n_estimators=100, max_depth=20, learning_rate=0.5, colsample_bytree=0.7, score=(train=-0.001, test=-6460.725), total=   1.3s\n",
      "[CV] n_estimators=100, max_depth=20, learning_rate=0.5, colsample_bytree=0.7 \n",
      "[CV]  n_estimators=100, max_depth=20, learning_rate=0.5, colsample_bytree=0.7, score=(train=-0.002, test=-5924.941), total=   1.3s\n",
      "[CV] n_estimators=100, max_depth=20, learning_rate=0.5, colsample_bytree=0.7 \n",
      "[CV]  n_estimators=100, max_depth=20, learning_rate=0.5, colsample_bytree=0.7, score=(train=-0.002, test=-5592.905), total=   1.3s\n",
      "[CV] n_estimators=100, max_depth=20, learning_rate=0.5, colsample_bytree=0.7 \n",
      "[CV]  n_estimators=100, max_depth=20, learning_rate=0.5, colsample_bytree=0.7, score=(train=-0.002, test=-5405.056), total=   1.3s\n",
      "[CV] n_estimators=100, max_depth=20, learning_rate=0.5, colsample_bytree=0.7 \n",
      "[CV]  n_estimators=100, max_depth=20, learning_rate=0.5, colsample_bytree=0.7, score=(train=-0.002, test=-5500.367), total=   1.3s\n",
      "[CV] n_estimators=500, max_depth=20, learning_rate=0.5, colsample_bytree=0.7 \n",
      "[CV]  n_estimators=500, max_depth=20, learning_rate=0.5, colsample_bytree=0.7, score=(train=-0.001, test=-6460.725), total=   6.2s\n",
      "[CV] n_estimators=500, max_depth=20, learning_rate=0.5, colsample_bytree=0.7 \n",
      "[CV]  n_estimators=500, max_depth=20, learning_rate=0.5, colsample_bytree=0.7, score=(train=-0.001, test=-5924.942), total=   6.4s\n",
      "[CV] n_estimators=500, max_depth=20, learning_rate=0.5, colsample_bytree=0.7 \n",
      "[CV]  n_estimators=500, max_depth=20, learning_rate=0.5, colsample_bytree=0.7, score=(train=-0.001, test=-5592.904), total=   6.2s\n",
      "[CV] n_estimators=500, max_depth=20, learning_rate=0.5, colsample_bytree=0.7 \n",
      "[CV]  n_estimators=500, max_depth=20, learning_rate=0.5, colsample_bytree=0.7, score=(train=-0.001, test=-5405.059), total=   6.3s\n",
      "[CV] n_estimators=500, max_depth=20, learning_rate=0.5, colsample_bytree=0.7 \n",
      "[CV]  n_estimators=500, max_depth=20, learning_rate=0.5, colsample_bytree=0.7, score=(train=-0.001, test=-5500.365), total=   6.3s\n"
     ]
    },
    {
     "name": "stderr",
     "output_type": "stream",
     "text": [
      "[Parallel(n_jobs=1)]: Done 120 out of 120 | elapsed:  4.7min finished\n"
     ]
    },
    {
     "name": "stdout",
     "output_type": "stream",
     "text": [
      "RMSE = 5090.417 \n",
      "R2 = 0.9219416758954831\n"
     ]
    }
   ],
   "source": [
    "from sklearn.model_selection import RandomizedSearchCV\n",
    "\n",
    "# Define the grid of hyperparameters to search\n",
    "\n",
    "# you can choose which booster you'd like to choose: \n",
    "# Two options are available: gbtree, gblinear\n",
    "# gbtree uses tree based models while gblinear uses linear functions\n",
    "\n",
    "grid = {\n",
    "    'n_estimators': [100, 500],\n",
    "    'max_depth': [3, 10, 20],\n",
    "    'learning_rate': [0.1, 0.5], \n",
    "    'colsample_bytree': [0.3, 0.7]}\n",
    "\n",
    "\n",
    "import xgboost as xgb\n",
    "model = xgb.XGBRegressor()\n",
    "\n",
    "# Set up the random search \n",
    "random_cv = RandomizedSearchCV(estimator = model,\n",
    "                               param_distributions = grid,\n",
    "                               cv = 5, \n",
    "                               n_iter = 100,\n",
    "                               scoring = 'neg_mean_absolute_error',\n",
    "                               verbose = 5, \n",
    "                               return_train_score = True)\n",
    "random_cv.fit(X_train, y_train)\n",
    "\n",
    "random_cv.best_estimator_\n",
    "y_predict = random_cv.predict(X_test)\n",
    "\n",
    "\n",
    "from sklearn.metrics import r2_score, mean_squared_error\n",
    "from math import sqrt\n",
    "\n",
    "RMSE = float(format(np.sqrt(mean_squared_error(y_test, y_predict)),'.3f'))\n",
    "r2 = r2_score(y_test, y_predict)\n",
    "\n",
    "print('RMSE =',RMSE,'\\nR2 =', r2) \n"
   ]
  },
  {
   "cell_type": "markdown",
   "metadata": {},
   "source": [
    "# 3. XG-BOOST WITH BAYESIAN OPTIMIZATION"
   ]
  },
  {
   "cell_type": "code",
   "execution_count": 14,
   "metadata": {},
   "outputs": [
    {
     "name": "stdout",
     "output_type": "stream",
     "text": [
      "Requirement already satisfied: scikit-optimize in /opt/conda/lib/python3.7/site-packages (0.9.0)\n",
      "Requirement already satisfied: scikit-learn>=0.20.0 in /opt/conda/lib/python3.7/site-packages (from scikit-optimize) (0.22.1)\n",
      "Requirement already satisfied: scipy>=0.19.1 in /opt/conda/lib/python3.7/site-packages (from scikit-optimize) (1.4.1)\n",
      "Requirement already satisfied: joblib>=0.11 in /opt/conda/lib/python3.7/site-packages (from scikit-optimize) (0.14.1)\n",
      "Requirement already satisfied: pyaml>=16.9 in /opt/conda/lib/python3.7/site-packages (from scikit-optimize) (21.10.1)\n",
      "Requirement already satisfied: numpy>=1.13.3 in /opt/conda/lib/python3.7/site-packages (from scikit-optimize) (1.21.6)\n",
      "Requirement already satisfied: PyYAML in /opt/conda/lib/python3.7/site-packages (from pyaml>=16.9->scikit-optimize) (6.0)\n",
      "\u001b[33mWARNING: Running pip as the 'root' user can result in broken permissions and conflicting behaviour with the system package manager. It is recommended to use a virtual environment instead: https://pip.pypa.io/warnings/venv\u001b[0m\u001b[33m\n",
      "\u001b[0mRMSE = 5172.579 \n",
      "R2 = 0.9194015306306565\n"
     ]
    }
   ],
   "source": [
    "! pip install scikit-optimize\n",
    "from skopt import BayesSearchCV\n",
    "# from skopt.space import Real, Categorical, Integer\n",
    "\n",
    "search_space = {\n",
    "        \"max_depth\": (4, 20, 'log-uniform'),\n",
    "        \"n_estimators\": (2, 100, 'log-uniform'),\n",
    "        'learning_rate': (0.01, 1.0, 'log-uniform')}            \n",
    "\n",
    "import xgboost as xgb\n",
    "model = xgb.XGBRegressor()\n",
    "\n",
    "xgb_bayes_search = BayesSearchCV(model, \n",
    "                                    search_space, \n",
    "                                    n_iter = 100, \n",
    "                                    scoring = 'neg_mean_absolute_error', \n",
    "                                    cv = 5)\n",
    "\n",
    "xgb_bayes_search.fit(X_train, y_train) \n",
    "\n",
    "y_predict = xgb_bayes_search.predict(X_test)\n",
    "\n",
    "from sklearn.metrics import r2_score, mean_squared_error\n",
    "from math import sqrt\n",
    "\n",
    "RMSE = float(format(np.sqrt(mean_squared_error(y_test, y_predict)),'.3f'))\n",
    "r2 = r2_score(y_test, y_predict)\n",
    "\n",
    "print('RMSE =',RMSE,'\\nR2 =', r2) \n"
   ]
  },
  {
   "cell_type": "code",
   "execution_count": null,
   "metadata": {},
   "outputs": [],
   "source": []
  },
  {
   "cell_type": "markdown",
   "metadata": {},
   "source": [
    "# PRACTICE OPPORTUNITIES SOLUTION"
   ]
  },
  {
   "cell_type": "markdown",
   "metadata": {},
   "source": [
    "**PRACTICE OPPORTUNITY #1 SOLUTION:**\n",
    "- **What is the average, minimum and maximum registered bike rental usage?**"
   ]
  },
  {
   "cell_type": "code",
   "execution_count": null,
   "metadata": {},
   "outputs": [],
   "source": [
    "bike_df.describe()"
   ]
  },
  {
   "cell_type": "markdown",
   "metadata": {},
   "source": [
    "**PRACTICE OPPORTUNITY #2 SOLUTION:**\n",
    "- **Plot the rental usage per quarter**\n",
    "- **Set the line width to 6 and enable the grid**"
   ]
  },
  {
   "cell_type": "code",
   "execution_count": null,
   "metadata": {},
   "outputs": [],
   "source": [
    "rental_df['cnt'].asfreq('Q').plot(linewidth = 6)\n",
    "plt.title('Bike Usage Per Quarter')\n",
    "plt.xlabel('Quarter')\n",
    "plt.ylabel('Bike Rental')\n",
    "plt.grid()"
   ]
  },
  {
   "cell_type": "code",
   "execution_count": null,
   "metadata": {},
   "outputs": [],
   "source": []
  },
  {
   "cell_type": "markdown",
   "metadata": {},
   "source": [
    "**PRACTICE OPPORTUNITY #3 SOLUTION:**\n",
    "- **Retrain the model with less 'max_depth'**\n",
    "- **Comment on the results**"
   ]
  },
  {
   "cell_type": "code",
   "execution_count": null,
   "metadata": {},
   "outputs": [],
   "source": [
    "# Train an XGBoost regressor model \n",
    "\n",
    "import xgboost as xgb\n",
    "\n",
    "model = xgb.XGBRegressor(objective ='reg:squarederror', learning_rate = 1, max_depth = 3, n_estimators = 500)\n",
    "\n",
    "model.fit(X_train, y_train)"
   ]
  },
  {
   "cell_type": "code",
   "execution_count": null,
   "metadata": {},
   "outputs": [],
   "source": []
  },
  {
   "cell_type": "markdown",
   "metadata": {},
   "source": [
    "**PRACTICE OPPORTUNITY #4 SOLUTION:**\n",
    "- **Expand on the parameter grid to include an additional hyperparameter \"gamma\"**\n",
    "- **Try any three reasonable values for gamma. How many fits are run this time? Comment on the results**\n"
   ]
  },
  {
   "cell_type": "code",
   "execution_count": null,
   "metadata": {},
   "outputs": [],
   "source": [
    "from sklearn.model_selection import GridSearchCV\n",
    "parameters_grid = { 'max_depth': [3, 6, 10], \n",
    "                    'learning_rate': [0.01, 0.05, 0.1],\n",
    "                    'n_estimators': [100, 500, 1000],\n",
    "                    'colsample_bytree': [0.3, 0.7],\n",
    "                    'gamma': [1, 0.1, 0.01]}\n",
    "import xgboost as xgb\n",
    "model = xgb.XGBRegressor()\n",
    "# Note that we used the \"neg_mean_squared_error\" since GridSearchCV() ranks all the algorithms (estimators) \n",
    "# and specifies which one is the best. We are trying to minimize the error.  \n",
    "xgb_gridsearch = GridSearchCV(estimator = model, \n",
    "                              param_grid = parameters_grid, \n",
    "                              scoring = 'neg_mean_squared_error',  \n",
    "                              cv = 5, \n",
    "                              verbose = 5)\n",
    "xgb_gridsearch\n",
    "xgb_gridsearch.fit(X_train, y_train)"
   ]
  },
  {
   "cell_type": "code",
   "execution_count": null,
   "metadata": {},
   "outputs": [],
   "source": [
    "xgb_gridsearch.best_params_"
   ]
  },
  {
   "cell_type": "code",
   "execution_count": null,
   "metadata": {},
   "outputs": [],
   "source": [
    "xgb_gridsearch.best_estimator_"
   ]
  },
  {
   "cell_type": "code",
   "execution_count": null,
   "metadata": {},
   "outputs": [],
   "source": [
    "y_predict = xgb_gridsearch.predict(X_test)"
   ]
  },
  {
   "cell_type": "code",
   "execution_count": null,
   "metadata": {},
   "outputs": [],
   "source": [
    "from sklearn.metrics import r2_score, mean_squared_error, mean_absolute_error\n",
    "from math import sqrt\n",
    "k = X_test.shape[1]\n",
    "n = len(X_test)\n",
    "RMSE = float(format(np.sqrt(mean_squared_error(y_test, y_predict)),'.3f'))\n",
    "MSE = mean_squared_error(y_test, y_predict)\n",
    "MAE = mean_absolute_error(y_test, y_predict)\n",
    "r2 = r2_score(y_test, y_predict)\n",
    "adj_r2 = 1-(1-r2)*(n-1)/(n-k-1)\n",
    "\n",
    "print('RMSE =',RMSE, '\\nMSE =',MSE, '\\nMAE =',MAE, '\\nR2 =', r2, '\\nAdjusted R2 =', adj_r2) "
   ]
  },
  {
   "cell_type": "code",
   "execution_count": null,
   "metadata": {},
   "outputs": [],
   "source": []
  }
 ],
 "metadata": {
  "accelerator": "GPU",
  "colab": {
   "collapsed_sections": [],
   "name": "Retail Sales Forecast.ipynb",
   "provenance": [],
   "toc_visible": true
  },
  "instance_type": "ml.t3.medium",
  "kernelspec": {
   "display_name": "Python 3 (Data Science)",
   "language": "python",
   "name": "python3__SAGEMAKER_INTERNAL__arn:aws:sagemaker:us-east-1:081325390199:image/datascience-1.0"
  },
  "language_info": {
   "codemirror_mode": {
    "name": "ipython",
    "version": 3
   },
   "file_extension": ".py",
   "mimetype": "text/x-python",
   "name": "python",
   "nbconvert_exporter": "python",
   "pygments_lexer": "ipython3",
   "version": "3.7.10"
  }
 },
 "nbformat": 4,
 "nbformat_minor": 4
}
